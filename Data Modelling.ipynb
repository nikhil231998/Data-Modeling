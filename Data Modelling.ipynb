{
 "cells": [
  {
   "cell_type": "code",
   "execution_count": 1,
   "metadata": {},
   "outputs": [],
   "source": [
    "import pandas as pd\n",
    "import matplotlib.pyplot as plt\n",
    "from sklearn.model_selection import train_test_split\n",
    "from sklearn.model_selection import KFold\n",
    "from sklearn.metrics import confusion_matrix\n",
    "from sklearn.neighbors import KNeighborsClassifier\n",
    "from sklearn.tree import DecisionTreeClassifier\n",
    "from sklearn.utils import shuffle\n",
    "from sklearn.metrics import classification_report\n",
    "import numpy as np\n",
    "from sklearn.preprocessing import MinMaxScaler"
   ]
  },
  {
   "cell_type": "code",
   "execution_count": 2,
   "metadata": {},
   "outputs": [],
   "source": [
    "# Load the data\n",
    "miceData = pd.read_excel('Mice.xls')\n",
    "headers = list(miceData)"
   ]
  },
  {
   "cell_type": "code",
   "execution_count": 3,
   "metadata": {},
   "outputs": [
    {
     "data": {
      "text/plain": [
       "(1080, 82)"
      ]
     },
     "execution_count": 3,
     "metadata": {},
     "output_type": "execute_result"
    }
   ],
   "source": [
    "# Check if the data is loaded properly\n",
    "miceData.shape"
   ]
  },
  {
   "cell_type": "code",
   "execution_count": 4,
   "metadata": {},
   "outputs": [],
   "source": [
    "# Remove white spaces\n",
    "miceData.iloc[:,0] = miceData.iloc[:,0].str.strip()\n",
    "for i in range(78,82):\n",
    "    miceData.iloc[:,i] = miceData.iloc[:,i].str.strip()"
   ]
  },
  {
   "cell_type": "code",
   "execution_count": 5,
   "metadata": {},
   "outputs": [
    {
     "name": "stdout",
     "output_type": "stream",
     "text": [
      "Control    570\n",
      "Ts65Dn     510\n",
      "Name: Genotype, dtype: int64\n",
      "Memantine    570\n",
      "Saline       510\n",
      "Name: Treatment, dtype: int64\n",
      "S/C    555\n",
      "C/S    525\n",
      "Name: Behavior, dtype: int64\n",
      "c-CS-m    150\n",
      "c-SC-m    150\n",
      "t-CS-m    135\n",
      "c-SC-s    135\n",
      "t-SC-s    135\n",
      "c-CS-s    135\n",
      "t-SC-m    135\n",
      "t-CS-s    105\n",
      "Name: class, dtype: int64\n"
     ]
    }
   ],
   "source": [
    "# Checking typos in the non-numerical data columns\n",
    "for i in range(78,82):\n",
    "    print(miceData.iloc[:,i].value_counts())"
   ]
  },
  {
   "cell_type": "code",
   "execution_count": 6,
   "metadata": {},
   "outputs": [
    {
     "name": "stdout",
     "output_type": "stream",
     "text": [
      "363_5      1\n",
      "3411_10    1\n",
      "3422_1     1\n",
      "3530_13    1\n",
      "3500_12    1\n",
      "          ..\n",
      "3429_11    1\n",
      "3484_2     1\n",
      "3481_3     1\n",
      "J1291_9    1\n",
      "3498_3     1\n",
      "Name: MouseID, Length: 1080, dtype: int64\n",
      "0.399414    1\n",
      "0.412268    1\n",
      "0.487528    1\n",
      "0.171823    1\n",
      "0.247678    1\n",
      "           ..\n",
      "0.284737    1\n",
      "0.317157    1\n",
      "0.332271    1\n",
      "0.838116    1\n",
      "0.343750    1\n",
      "Name: DYRK1A_N, Length: 1077, dtype: int64\n",
      "0.639280    2\n",
      "0.529062    1\n",
      "0.499294    1\n",
      "0.554380    1\n",
      "0.821877    1\n",
      "           ..\n",
      "0.477591    1\n",
      "0.786627    1\n",
      "0.338680    1\n",
      "0.549559    1\n",
      "0.460938    1\n",
      "Name: ITSN1_N, Length: 1076, dtype: int64\n",
      "0.265628    1\n",
      "0.319143    1\n",
      "0.308158    1\n",
      "0.331378    1\n",
      "0.315109    1\n",
      "           ..\n",
      "0.279554    1\n",
      "0.263723    1\n",
      "0.382093    1\n",
      "0.432996    1\n",
      "0.309610    1\n",
      "Name: BDNF_N, Length: 1077, dtype: int64\n",
      "2.164182    1\n",
      "2.953580    1\n",
      "2.144255    1\n",
      "1.540847    1\n",
      "2.742215    1\n",
      "           ..\n",
      "2.919243    1\n",
      "2.148795    1\n",
      "1.936624    1\n",
      "2.309554    1\n",
      "1.875000    1\n",
      "Name: NR1_N, Length: 1077, dtype: int64\n",
      "2.749733    1\n",
      "2.613441    1\n",
      "2.458903    1\n",
      "2.786042    1\n",
      "4.329734    1\n",
      "           ..\n",
      "5.384910    1\n",
      "3.039328    1\n",
      "3.278863    1\n",
      "5.691898    1\n",
      "4.500000    1\n",
      "Name: NR2A_N, Length: 1077, dtype: int64\n",
      "0.231177    2\n",
      "0.276779    1\n",
      "0.221680    1\n",
      "0.259737    1\n",
      "0.178977    1\n",
      "           ..\n",
      "0.241886    1\n",
      "0.196359    1\n",
      "0.241022    1\n",
      "0.208790    1\n",
      "0.168654    1\n",
      "Name: pAKT_N, Length: 1076, dtype: int64\n",
      "0.210526    2\n",
      "0.204209    2\n",
      "0.179697    1\n",
      "0.183894    1\n",
      "0.147166    1\n",
      "           ..\n",
      "0.186114    1\n",
      "0.185214    1\n",
      "0.252774    1\n",
      "0.171777    1\n",
      "0.191979    1\n",
      "Name: pBRAF_N, Length: 1075, dtype: int64\n",
      "2.586144    1\n",
      "5.672037    1\n",
      "2.030051    1\n",
      "2.093527    1\n",
      "2.292150    1\n",
      "           ..\n",
      "4.652908    1\n",
      "6.113647    1\n",
      "3.760677    1\n",
      "2.248283    1\n",
      "2.154635    1\n",
      "Name: pCAMKII_N, Length: 1077, dtype: int64\n",
      "0.230952    1\n",
      "0.256470    1\n",
      "0.208908    1\n",
      "0.171798    1\n",
      "0.185292    1\n",
      "           ..\n",
      "0.200000    1\n",
      "0.175000    1\n",
      "0.218104    1\n",
      "0.244711    1\n",
      "0.206526    1\n",
      "Name: pCREB_N, Length: 1077, dtype: int64\n",
      "1.550766    1\n",
      "2.004403    1\n",
      "1.136105    1\n",
      "1.331158    1\n",
      "1.237591    1\n",
      "           ..\n",
      "1.325280    1\n",
      "1.361894    1\n",
      "1.106843    1\n",
      "1.259345    1\n",
      "1.000000    1\n",
      "Name: pELK_N, Length: 1077, dtype: int64\n",
      "0.298799    1\n",
      "1.038183    1\n",
      "0.599675    1\n",
      "0.674015    1\n",
      "0.554500    1\n",
      "           ..\n",
      "0.354924    1\n",
      "0.508992    1\n",
      "0.249668    1\n",
      "0.313316    1\n",
      "0.648438    1\n",
      "Name: pERK_N, Length: 1077, dtype: int64\n",
      "0.333333    2\n",
      "0.401361    1\n",
      "0.240182    1\n",
      "0.392565    1\n",
      "0.318569    1\n",
      "           ..\n",
      "0.312815    1\n",
      "0.257608    1\n",
      "0.374258    1\n",
      "0.244677    1\n",
      "0.343750    1\n",
      "Name: pJNK_N, Length: 1076, dtype: int64\n",
      "0.328137    1\n",
      "0.368855    1\n",
      "0.241844    1\n",
      "0.299419    1\n",
      "0.331336    1\n",
      "           ..\n",
      "0.325769    1\n",
      "0.287196    1\n",
      "0.339076    1\n",
      "0.249818    1\n",
      "0.318359    1\n",
      "Name: PKCA_N, Length: 1077, dtype: int64\n",
      "0.313483    1\n",
      "0.276591    1\n",
      "0.294680    1\n",
      "0.288847    1\n",
      "0.290176    1\n",
      "           ..\n",
      "0.339777    1\n",
      "0.239116    1\n",
      "0.328590    1\n",
      "0.255616    1\n",
      "0.303846    1\n",
      "Name: pMEK_N, Length: 1077, dtype: int64\n",
      "0.896487    1\n",
      "0.876525    1\n",
      "0.902738    1\n",
      "0.868464    1\n",
      "0.817288    1\n",
      "           ..\n",
      "0.740304    1\n",
      "0.750414    1\n",
      "1.104556    1\n",
      "1.003635    1\n",
      "0.751304    1\n",
      "Name: pNR1_N, Length: 1077, dtype: int64\n",
      "0.845698    1\n",
      "0.746623    1\n",
      "0.618148    1\n",
      "0.861827    1\n",
      "0.714121    1\n",
      "           ..\n",
      "0.410557    1\n",
      "0.793003    1\n",
      "0.739733    1\n",
      "0.623071    1\n",
      "0.781250    1\n",
      "Name: pNR2A_N, Length: 1077, dtype: int64\n",
      "1.548731    1\n",
      "1.708774    1\n",
      "1.525955    1\n",
      "1.915403    1\n",
      "1.949264    1\n",
      "           ..\n",
      "1.917139    1\n",
      "1.413043    1\n",
      "1.871178    1\n",
      "1.285980    1\n",
      "1.496094    1\n",
      "Name: pNR2B_N, Length: 1077, dtype: int64\n",
      "1.789116    1\n",
      "1.485279    1\n",
      "1.237112    1\n",
      "1.040727    1\n",
      "0.646179    1\n",
      "           ..\n",
      "1.301867    1\n",
      "1.240528    1\n",
      "1.115030    1\n",
      "1.317941    1\n",
      "1.219331    1\n",
      "Name: pPKCAB_N, Length: 1077, dtype: int64\n",
      "0.566439    1\n",
      "0.447450    1\n",
      "0.527734    1\n",
      "0.368572    1\n",
      "0.437155    1\n",
      "           ..\n",
      "0.477547    1\n",
      "0.421696    1\n",
      "0.533156    1\n",
      "0.440593    1\n",
      "0.500000    1\n",
      "Name: pRSK_N, Length: 1077, dtype: int64\n",
      "0.478502    1\n",
      "0.672886    1\n",
      "0.784681    1\n",
      "0.712498    1\n",
      "0.775327    1\n",
      "           ..\n",
      "0.515954    1\n",
      "0.695932    1\n",
      "0.817731    1\n",
      "1.042822    1\n",
      "0.844177    1\n",
      "Name: AKT_N, Length: 1077, dtype: int64\n",
      "0.243422    1\n",
      "0.191317    1\n",
      "0.316123    1\n",
      "0.238975    1\n",
      "0.255744    1\n",
      "           ..\n",
      "0.267394    1\n",
      "0.246803    1\n",
      "0.300998    1\n",
      "0.277750    1\n",
      "1.662267    1\n",
      "Name: BRAF_N, Length: 1077, dtype: int64\n",
      "0.389649    1\n",
      "0.357013    1\n",
      "0.291680    1\n",
      "0.353782    1\n",
      "0.435659    1\n",
      "           ..\n",
      "0.285269    1\n",
      "0.389363    1\n",
      "0.357400    1\n",
      "0.306953    1\n",
      "0.437500    1\n",
      "Name: CAMKII_N, Length: 1077, dtype: int64\n",
      "0.210938    2\n",
      "0.197880    2\n",
      "0.228852    2\n",
      "0.186047    2\n",
      "0.191917    1\n",
      "           ..\n",
      "0.191846    1\n",
      "0.155029    1\n",
      "0.186129    1\n",
      "0.165903    1\n",
      "0.189462    1\n",
      "Name: CREB_N, Length: 1073, dtype: int64\n",
      "1.558689    1\n",
      "2.102786    1\n",
      "1.401744    1\n",
      "0.904160    1\n",
      "0.937451    1\n",
      "           ..\n",
      "1.113358    1\n",
      "0.965658    1\n",
      "0.973071    1\n",
      "1.356718    1\n",
      "1.287985    1\n",
      "Name: ELK_N, Length: 1062, dtype: int64\n",
      "1.507803    1\n",
      "3.476736    1\n",
      "3.623264    1\n",
      "1.878842    1\n",
      "2.316472    1\n",
      "           ..\n",
      "3.190537    1\n",
      "2.305597    1\n",
      "2.896334    1\n",
      "2.422627    1\n",
      "2.500000    1\n",
      "Name: ERK_N, Length: 1077, dtype: int64\n",
      "1.017808    1\n",
      "1.173589    1\n",
      "0.899121    1\n",
      "1.158088    1\n",
      "1.388273    1\n",
      "           ..\n",
      "0.853694    1\n",
      "1.254199    1\n",
      "1.094949    1\n",
      "1.105066    1\n",
      "0.984375    1\n",
      "Name: GSK3B_N, Length: 1077, dtype: int64\n",
      "0.274420    1\n",
      "0.190685    1\n",
      "0.234870    1\n",
      "0.207639    1\n",
      "0.271631    1\n",
      "           ..\n",
      "0.254180    1\n",
      "0.206072    1\n",
      "0.261542    1\n",
      "0.216336    1\n",
      "0.308594    1\n",
      "Name: JNK_N, Length: 1077, dtype: int64\n",
      "0.275229    2\n",
      "0.270520    1\n",
      "0.287327    1\n",
      "0.257779    1\n",
      "0.187825    1\n",
      "           ..\n",
      "0.286552    1\n",
      "0.194126    1\n",
      "0.344107    1\n",
      "0.294186    1\n",
      "0.310592    1\n",
      "Name: MEK_N, Length: 1072, dtype: int64\n",
      "0.776860    2\n",
      "0.666667    2\n",
      "0.636731    1\n",
      "0.553763    1\n",
      "0.887065    1\n",
      "           ..\n",
      "0.778749    1\n",
      "0.716190    1\n",
      "0.646551    1\n",
      "0.769178    1\n",
      "0.898438    1\n",
      "Name: TRKA_N, Length: 1075, dtype: int64\n",
      "0.162162    2\n",
      "0.195556    2\n",
      "0.187737    2\n",
      "0.174760    1\n",
      "0.185831    1\n",
      "           ..\n",
      "0.176174    1\n",
      "0.161278    1\n",
      "0.153640    1\n",
      "0.157184    1\n",
      "0.123762    1\n",
      "Name: RSK_N, Length: 1074, dtype: int64\n",
      "0.267630    1\n",
      "0.362618    1\n",
      "0.340297    1\n",
      "0.437253    1\n",
      "0.317060    1\n",
      "           ..\n",
      "0.403786    1\n",
      "0.367804    1\n",
      "0.488346    1\n",
      "0.413242    1\n",
      "0.478472    1\n",
      "Name: APP_N, Length: 1077, dtype: int64\n",
      "2.375064    1\n",
      "2.085163    1\n",
      "1.682478    1\n",
      "2.268817    1\n",
      "1.704737    1\n",
      "           ..\n",
      "1.879366    1\n",
      "2.690275    1\n",
      "2.112078    1\n",
      "2.321342    1\n",
      "1.388246    1\n",
      "Name: Bcatenin_N, Length: 1062, dtype: int64\n",
      "0.338881    1\n",
      "0.346848    1\n",
      "0.309478    1\n",
      "0.262719    1\n",
      "0.742582    1\n",
      "           ..\n",
      "1.088200    1\n",
      "0.664472    1\n",
      "0.681845    1\n",
      "0.339572    1\n",
      "0.304688    1\n",
      "Name: SOD1_N, Length: 1077, dtype: int64\n",
      "0.375033    1\n",
      "0.469795    1\n",
      "0.546659    1\n",
      "0.343450    1\n",
      "0.472345    1\n",
      "           ..\n",
      "0.408960    1\n",
      "0.507546    1\n",
      "0.375068    1\n",
      "0.449345    1\n",
      "0.459153    1\n",
      "Name: MTOR_N, Length: 1077, dtype: int64\n",
      "0.333333    2\n",
      "0.472924    2\n",
      "0.501973    1\n",
      "0.374573    1\n",
      "0.300913    1\n",
      "           ..\n",
      "0.464745    1\n",
      "0.442189    1\n",
      "0.468768    1\n",
      "0.443227    1\n",
      "0.375000    1\n",
      "Name: P38_N, Length: 1075, dtype: int64\n",
      "0.880885    1\n",
      "0.769808    1\n",
      "0.901549    1\n",
      "0.783082    1\n",
      "0.647831    1\n",
      "           ..\n",
      "0.680891    1\n",
      "0.798476    1\n",
      "0.868649    1\n",
      "0.735557    1\n",
      "0.671875    1\n",
      "Name: pMTOR_N, Length: 1077, dtype: int64\n",
      "0.568279    1\n",
      "0.732805    1\n",
      "0.449808    1\n",
      "0.661338    1\n",
      "0.620272    1\n",
      "           ..\n",
      "0.614897    1\n",
      "0.637937    1\n",
      "0.473081    1\n",
      "0.554376    1\n",
      "0.500000    1\n",
      "Name: DSCR1_N, Length: 1077, dtype: int64\n",
      "0.367718    2\n",
      "0.333333    2\n",
      "0.397461    1\n",
      "0.481150    1\n",
      "0.306637    1\n",
      "           ..\n",
      "0.258203    1\n",
      "0.382543    1\n",
      "0.496432    1\n",
      "0.327787    1\n",
      "0.375000    1\n",
      "Name: AMPKA_N, Length: 1075, dtype: int64\n",
      "0.658220    1\n",
      "0.635158    1\n",
      "0.631360    1\n",
      "0.559764    1\n",
      "0.524659    1\n",
      "           ..\n",
      "0.560265    1\n",
      "0.722353    1\n",
      "0.593223    1\n",
      "0.541522    1\n",
      "0.500000    1\n",
      "Name: NR2B_N, Length: 1077, dtype: int64\n",
      "0.346698    1\n",
      "0.302367    1\n",
      "0.408324    1\n",
      "0.454005    1\n",
      "0.287853    1\n",
      "           ..\n",
      "0.465273    1\n",
      "0.422198    1\n",
      "0.322885    1\n",
      "0.283131    1\n",
      "0.312500    1\n",
      "Name: pNUMB_N, Length: 1077, dtype: int64\n",
      "0.310568    1\n",
      "0.228594    1\n",
      "0.321966    1\n",
      "0.281375    1\n",
      "0.313701    1\n",
      "           ..\n",
      "0.324729    1\n",
      "0.255902    1\n",
      "0.259949    1\n",
      "0.277844    1\n",
      "0.306349    1\n",
      "Name: RAPTOR_N, Length: 1077, dtype: int64\n",
      "0.375000    2\n",
      "0.315566    2\n",
      "0.342198    1\n",
      "0.402164    1\n",
      "0.456416    1\n",
      "           ..\n",
      "0.502497    1\n",
      "0.366889    1\n",
      "0.377936    1\n",
      "0.386123    1\n",
      "0.313313    1\n",
      "Name: TIAM1_N, Length: 1075, dtype: int64\n",
      "0.500000    2\n",
      "0.583342    1\n",
      "0.405589    1\n",
      "0.174062    1\n",
      "0.394288    1\n",
      "           ..\n",
      "0.172909    1\n",
      "0.204570    1\n",
      "0.358410    1\n",
      "0.471838    1\n",
      "0.250000    1\n",
      "Name: pP70S6_N, Length: 1076, dtype: int64\n",
      "0.168154    1\n",
      "0.153632    1\n",
      "0.187663    1\n",
      "0.180020    1\n",
      "0.171466    1\n",
      "           ..\n",
      "0.202833    1\n",
      "0.182155    1\n",
      "0.247358    1\n",
      "0.162330    1\n",
      "0.192915    1\n",
      "Name: NUMB_N, Length: 1080, dtype: int64\n",
      "1.007819    1\n",
      "1.058955    1\n",
      "0.752168    1\n",
      "1.413563    1\n",
      "1.037469    1\n",
      "           ..\n",
      "0.941862    1\n",
      "0.880646    1\n",
      "0.654211    1\n",
      "1.134340    1\n",
      "0.795393    1\n",
      "Name: P70S6_N, Length: 1080, dtype: int64\n",
      "0.136234    1\n",
      "0.164905    1\n",
      "0.154845    1\n",
      "0.176581    1\n",
      "0.146602    1\n",
      "           ..\n",
      "0.170865    1\n",
      "0.165081    1\n",
      "0.163666    1\n",
      "0.147878    1\n",
      "0.138672    1\n",
      "Name: pGSK3B_N, Length: 1080, dtype: int64\n",
      "2.107487    1\n",
      "0.942029    1\n",
      "1.309839    1\n",
      "1.186435    1\n",
      "1.854941    1\n",
      "           ..\n",
      "1.363366    1\n",
      "2.238552    1\n",
      "1.250834    1\n",
      "1.405691    1\n",
      "1.015625    1\n",
      "Name: pPKCG_N, Length: 1080, dtype: int64\n",
      "0.341021    1\n",
      "0.285817    1\n",
      "0.293819    1\n",
      "0.271077    1\n",
      "0.278993    1\n",
      "           ..\n",
      "0.305958    1\n",
      "0.286091    1\n",
      "0.380048    1\n",
      "0.219449    1\n",
      "0.290466    1\n",
      "Name: CDK5_N, Length: 1080, dtype: int64\n",
      "0.689591    1\n",
      "0.241597    1\n",
      "0.600271    1\n",
      "0.273312    1\n",
      "0.313017    1\n",
      "           ..\n",
      "0.491626    1\n",
      "0.561925    1\n",
      "0.696069    1\n",
      "0.400593    1\n",
      "0.250000    1\n",
      "Name: S6_N, Length: 1080, dtype: int64\n",
      "1.214885    1\n",
      "1.253763    1\n",
      "0.832360    1\n",
      "1.648033    1\n",
      "1.124372    1\n",
      "           ..\n",
      "0.921927    1\n",
      "0.981559    1\n",
      "0.893224    1\n",
      "1.082231    1\n",
      "1.056348    1\n",
      "Name: ADARB1_N, Length: 1080, dtype: int64\n",
      "0.512167    1\n",
      "0.101971    1\n",
      "0.226831    1\n",
      "0.329148    1\n",
      "0.190230    1\n",
      "           ..\n",
      "0.270915    1\n",
      "0.084518    1\n",
      "0.110129    1\n",
      "0.351832    1\n",
      "0.297028    1\n",
      "Name: AcetylH3K9_N, Length: 1080, dtype: int64\n",
      "0.178487    1\n",
      "0.153167    1\n",
      "0.189965    1\n",
      "0.164896    1\n",
      "0.188093    1\n",
      "           ..\n",
      "0.161281    1\n",
      "0.175895    1\n",
      "0.167516    1\n",
      "0.192358    1\n",
      "0.146484    1\n",
      "Name: RRP1_N, Length: 1080, dtype: int64\n",
      "0.178234    1\n",
      "0.171579    1\n",
      "0.195693    1\n",
      "0.168519    1\n",
      "0.186777    1\n",
      "           ..\n",
      "0.150141    1\n",
      "0.173855    1\n",
      "0.188513    1\n",
      "0.177799    1\n",
      "0.188697    1\n",
      "Name: BAX_N, Length: 1080, dtype: int64\n",
      "0.110112    1\n",
      "0.124309    1\n",
      "0.121615    1\n",
      "0.125988    1\n",
      "0.115990    1\n",
      "           ..\n",
      "0.151461    1\n",
      "0.139718    1\n",
      "0.140256    1\n",
      "0.134006    1\n",
      "0.108303    1\n",
      "Name: ARC_N, Length: 1080, dtype: int64\n",
      "0.155331    2\n",
      "0.148755    1\n",
      "0.136794    1\n",
      "0.157591    1\n",
      "0.147713    1\n",
      "           ..\n",
      "0.145070    1\n",
      "0.174485    1\n",
      "0.116994    1\n",
      "0.167480    1\n",
      "0.157760    1\n",
      "Name: ERBB4_N, Length: 1079, dtype: int64\n",
      "0.173913    2\n",
      "0.212882    1\n",
      "0.177541    1\n",
      "0.164139    1\n",
      "0.198589    1\n",
      "           ..\n",
      "0.182072    1\n",
      "0.175088    1\n",
      "0.178397    1\n",
      "0.172803    1\n",
      "0.206560    1\n",
      "Name: nNOS_N, Length: 1079, dtype: int64\n",
      "0.297862    1\n",
      "0.188709    1\n",
      "0.173273    1\n",
      "0.189521    1\n",
      "0.174529    1\n",
      "           ..\n",
      "0.238779    1\n",
      "0.179049    1\n",
      "0.196080    1\n",
      "0.136838    1\n",
      "0.156739    1\n",
      "Name: Tau_N, Length: 1080, dtype: int64\n",
      "0.130435    2\n",
      "0.108108    1\n",
      "0.122376    1\n",
      "0.124916    1\n",
      "0.118102    1\n",
      "           ..\n",
      "0.178283    1\n",
      "0.118460    1\n",
      "0.125390    1\n",
      "0.128118    1\n",
      "0.132812    1\n",
      "Name: GFAP_N, Length: 1079, dtype: int64\n",
      "0.189949    1\n",
      "0.181997    1\n",
      "0.314831    1\n",
      "0.176196    1\n",
      "0.204673    1\n",
      "           ..\n",
      "0.215253    1\n",
      "0.294030    1\n",
      "0.217799    1\n",
      "0.228863    1\n",
      "0.194739    1\n",
      "Name: GluR3_N, Length: 1080, dtype: int64\n",
      "0.110996    2\n",
      "0.099600    1\n",
      "0.102332    1\n",
      "0.135139    1\n",
      "0.135275    1\n",
      "           ..\n",
      "0.152408    1\n",
      "0.124735    1\n",
      "0.112888    1\n",
      "0.145065    1\n",
      "0.105126    1\n",
      "Name: GluR4_N, Length: 1079, dtype: int64\n",
      "0.503901    1\n",
      "0.496892    1\n",
      "0.678803    1\n",
      "0.553856    1\n",
      "0.574691    1\n",
      "           ..\n",
      "0.460290    1\n",
      "0.466362    1\n",
      "0.537718    1\n",
      "0.562792    1\n",
      "0.623047    1\n",
      "Name: IL1B_N, Length: 1080, dtype: int64\n",
      "0.309800    1\n",
      "0.309501    1\n",
      "0.259787    1\n",
      "0.250661    1\n",
      "0.294351    1\n",
      "           ..\n",
      "0.291089    1\n",
      "0.317309    1\n",
      "0.327007    1\n",
      "0.294685    1\n",
      "0.307169    1\n",
      "Name: P3525_N, Length: 1080, dtype: int64\n",
      "1.467431    1\n",
      "1.657349    1\n",
      "1.493416    1\n",
      "1.433620    1\n",
      "1.794785    1\n",
      "           ..\n",
      "1.200130    1\n",
      "1.555434    1\n",
      "1.730622    1\n",
      "1.185995    1\n",
      "1.812500    1\n",
      "Name: pCASP9_N, Length: 1080, dtype: int64\n",
      "2.320483    1\n",
      "2.456620    1\n",
      "2.639267    1\n",
      "1.511784    1\n",
      "2.337233    1\n",
      "           ..\n",
      "2.325328    1\n",
      "1.958227    1\n",
      "2.059133    1\n",
      "2.499151    1\n",
      "2.500000    1\n",
      "Name: PSD95_N, Length: 1080, dtype: int64\n",
      "0.171454    2\n",
      "0.149263    1\n",
      "0.163356    1\n",
      "0.167003    1\n",
      "0.174991    1\n",
      "           ..\n",
      "0.170620    1\n",
      "0.163946    1\n",
      "0.133346    1\n",
      "0.126799    1\n",
      "0.172229    1\n",
      "Name: SNCA_N, Length: 1079, dtype: int64\n",
      "1.269499    1\n",
      "1.078348    1\n",
      "1.605590    1\n",
      "1.146432    1\n",
      "1.329207    1\n",
      "           ..\n",
      "1.044476    1\n",
      "1.634000    1\n",
      "1.086489    1\n",
      "1.419114    1\n",
      "1.500000    1\n",
      "Name: Ubiquitin_N, Length: 1080, dtype: int64\n",
      "0.780729    1\n",
      "0.938106    1\n",
      "1.007829    1\n",
      "0.817309    1\n",
      "1.150855    1\n",
      "           ..\n",
      "0.977835    1\n",
      "1.006968    1\n",
      "0.820304    1\n",
      "0.880907    1\n",
      "1.000000    1\n",
      "Name: pGSK3B_Tyr216_N, Length: 1080, dtype: int64\n",
      "0.217774    1\n",
      "0.292330    1\n",
      "0.196765    1\n",
      "0.295025    1\n",
      "0.242618    1\n",
      "           ..\n",
      "0.178426    1\n",
      "0.259813    1\n",
      "0.202167    1\n",
      "0.271165    1\n",
      "0.237075    1\n",
      "Name: SHH_N, Length: 1080, dtype: int64\n",
      "0.200276    2\n",
      "0.153517    1\n",
      "0.151261    1\n",
      "0.146840    1\n",
      "0.169741    1\n",
      "           ..\n",
      "0.130649    1\n",
      "0.146644    1\n",
      "0.202864    1\n",
      "0.193500    1\n",
      "0.126968    1\n",
      "Name: BAD_N, Length: 866, dtype: int64\n",
      "0.127434    1\n",
      "0.132105    1\n",
      "0.142876    1\n",
      "0.119535    1\n",
      "0.135274    1\n",
      "           ..\n",
      "0.125834    1\n",
      "0.133084    1\n",
      "0.120503    1\n",
      "0.146621    1\n",
      "0.146135    1\n",
      "Name: BCL2_N, Length: 795, dtype: int64\n",
      "0.110112    1\n",
      "0.124309    1\n",
      "0.121615    1\n",
      "0.125988    1\n",
      "0.115990    1\n",
      "           ..\n",
      "0.151461    1\n",
      "0.139718    1\n",
      "0.140256    1\n",
      "0.134006    1\n",
      "0.108303    1\n",
      "Name: pS6_N, Length: 1080, dtype: int64\n",
      "0.122324    1\n",
      "0.113255    1\n",
      "0.188470    1\n",
      "0.126301    1\n",
      "0.121351    1\n",
      "           ..\n",
      "0.130644    1\n",
      "0.135711    1\n",
      "0.104697    1\n",
      "0.161435    1\n",
      "0.092973    1\n",
      "Name: pCFOS_N, Length: 1005, dtype: int64\n",
      "0.487991    2\n",
      "0.474465    1\n",
      "0.388407    1\n",
      "0.513971    1\n",
      "0.458839    1\n",
      "           ..\n",
      "0.392934    1\n",
      "0.368915    1\n",
      "0.325009    1\n",
      "0.434591    1\n",
      "0.406250    1\n",
      "Name: SYP_N, Length: 1079, dtype: int64\n",
      "0.102054    1\n",
      "0.114144    1\n",
      "0.201712    1\n",
      "0.117959    1\n",
      "0.181067    1\n",
      "           ..\n",
      "0.123345    1\n",
      "0.209302    1\n",
      "0.228843    1\n",
      "0.176660    1\n",
      "0.152119    1\n",
      "Name: H3AcK18_N, Length: 900, dtype: int64\n",
      "0.182620    1\n",
      "0.174344    1\n",
      "0.130798    1\n",
      "0.144922    1\n",
      "0.178538    1\n",
      "           ..\n",
      "0.159665    1\n",
      "0.137577    1\n",
      "0.212171    1\n",
      "0.187898    1\n",
      "0.267578    1\n",
      "Name: EGR1_N, Length: 870, dtype: int64\n",
      "0.196089    1\n",
      "0.163909    1\n",
      "0.276163    1\n",
      "0.156811    1\n",
      "0.220930    1\n",
      "           ..\n",
      "0.147699    1\n",
      "0.207787    1\n",
      "0.159060    1\n",
      "0.209683    1\n",
      "0.101787    1\n",
      "Name: H3MeK4_N, Length: 810, dtype: int64\n",
      "1.379201    1\n",
      "1.665576    1\n",
      "1.074201    1\n",
      "0.854759    1\n",
      "1.199038    1\n",
      "           ..\n",
      "2.028409    1\n",
      "1.658814    1\n",
      "1.682222    1\n",
      "1.803945    1\n",
      "1.000000    1\n",
      "Name: CaNA_N, Length: 1080, dtype: int64\n",
      "Control    570\n",
      "Ts65Dn     510\n",
      "Name: Genotype, dtype: int64\n",
      "Memantine    570\n",
      "Saline       510\n",
      "Name: Treatment, dtype: int64\n",
      "S/C    555\n",
      "C/S    525\n",
      "Name: Behavior, dtype: int64\n",
      "c-CS-m    150\n",
      "c-SC-m    150\n",
      "t-CS-m    135\n",
      "c-SC-s    135\n",
      "t-SC-s    135\n",
      "c-CS-s    135\n",
      "t-SC-m    135\n",
      "t-CS-s    105\n",
      "Name: class, dtype: int64\n"
     ]
    }
   ],
   "source": [
    "# Sanity Checks\n",
    "for i in range(0,82):\n",
    "    print(miceData.iloc[:,i].value_counts())"
   ]
  },
  {
   "cell_type": "code",
   "execution_count": 7,
   "metadata": {},
   "outputs": [],
   "source": [
    "# Handling missing values\n",
    "for i in range(1,78):\n",
    "    miceData.loc[miceData['class'] == 'c-CS-m', headers[i]] = miceData.loc[miceData['class'] == 'c-CS-m', headers[i]].fillna(miceData.loc[miceData['class'] == 'c-CS-m', headers[i]].mean())\n",
    "    miceData.loc[miceData['class'] == 'c-CS-s', headers[i]] = miceData.loc[miceData['class'] == 'c-CS-s', headers[i]].fillna(miceData.loc[miceData['class'] == 'c-CS-s', headers[i]].mean())\n",
    "    miceData.loc[miceData['class'] == 'c-SC-m', headers[i]] = miceData.loc[miceData['class'] == 'c-SC-m', headers[i]].fillna(miceData.loc[miceData['class'] == 'c-SC-m', headers[i]].mean())\n",
    "    miceData.loc[miceData['class'] == 'c-SC-s', headers[i]] = miceData.loc[miceData['class'] == 'c-SC-s', headers[i]].fillna(miceData.loc[miceData['class'] == 'c-SC-s', headers[i]].mean())\n",
    "    miceData.loc[miceData['class'] == 't-CS-m', headers[i]] = miceData.loc[miceData['class'] == 't-CS-m', headers[i]].fillna(miceData.loc[miceData['class'] == 't-CS-m', headers[i]].mean())\n",
    "    miceData.loc[miceData['class'] == 't-CS-s', headers[i]] = miceData.loc[miceData['class'] == 't-CS-s', headers[i]].fillna(miceData.loc[miceData['class'] == 't-CS-s', headers[i]].mean())\n",
    "    miceData.loc[miceData['class'] == 't-SC-m', headers[i]] = miceData.loc[miceData['class'] == 't-SC-m', headers[i]].fillna(miceData.loc[miceData['class'] == 't-SC-m', headers[i]].mean())\n",
    "    miceData.loc[miceData['class'] == 't-SC-s', headers[i]] = miceData.loc[miceData['class'] == 't-SC-s', headers[i]].fillna(miceData.loc[miceData['class'] == 't-SC-s', headers[i]].mean())"
   ]
  },
  {
   "cell_type": "code",
   "execution_count": 8,
   "metadata": {},
   "outputs": [],
   "source": [
    "# Converting all the non-numerical columns to upper case\n",
    "for i in range(78,82):\n",
    "    miceData.iloc[:,i] = miceData.iloc[:,i].str.upper()"
   ]
  },
  {
   "cell_type": "code",
   "execution_count": 9,
   "metadata": {},
   "outputs": [],
   "source": [
    "# Converting all the non-numerical columns to categorical columns\n",
    "miceData.iloc[:,78] = pd.Categorical(miceData.iloc[:,78], ['CONTROL', 'TS65DN'])\n",
    "miceData.iloc[:,79] = pd.Categorical(miceData.iloc[:,79], ['MEMANTINE', 'SALINE'])\n",
    "miceData.iloc[:,80] = pd.Categorical(miceData.iloc[:,80], ['S/C', 'C/S'])\n",
    "miceData.iloc[:,81] = pd.Categorical(miceData.iloc[:,81], ['C-SC-M', 'C-CS-M', 'T-SC-M', 'C-CS-S', 'T-SC-S', 'C-SC-S', 'T-CS-M', 'T-CS-S'])"
   ]
  },
  {
   "cell_type": "code",
   "execution_count": 10,
   "metadata": {},
   "outputs": [],
   "source": [
    "# Visualizing 10 columns along with their desiciptice statistics"
   ]
  },
  {
   "cell_type": "code",
   "execution_count": 11,
   "metadata": {},
   "outputs": [
    {
     "name": "stdout",
     "output_type": "stream",
     "text": [
      "Sum = 586.5816707544998\n",
      "Mean = 0.5431311766245368\n",
      "Median = 0.4460267275\n",
      "Standard deviation = 0.28020599683112835\n",
      "Min = 0.217120181\n",
      "Max = 1.872898533\n"
     ]
    },
    {
     "data": {
      "image/png": "[encoded data removed]",
      "text/plain": [
       "<Figure size 432x288 with 1 Axes>"
      ]
     },
     "metadata": {
      "needs_background": "light"
     },
     "output_type": "display_data"
    }
   ],
   "source": [
    "plt.boxplot(miceData['SOD1_N'])\n",
    "plt.ylabel('Range')\n",
    "plt.xlabel('SOD1_N')\n",
    "print(\"Sum = \" + str(sum(miceData['SOD1_N'])))\n",
    "print(\"Mean = \" + str(np.mean(miceData['SOD1_N'])))\n",
    "print(\"Median = \" + str(np.median(miceData['SOD1_N'])))\n",
    "print(\"Standard deviation = \" + str(np.std(miceData['SOD1_N'])))\n",
    "print(\"Min = \" + str(np.min(miceData['SOD1_N'])))\n",
    "print(\"Max = \" + str(np.max(miceData['SOD1_N'])))"
   ]
  },
  {
   "cell_type": "code",
   "execution_count": 12,
   "metadata": {},
   "outputs": [
    {
     "name": "stdout",
     "output_type": "stream",
     "text": [
      "Sum = 1444.8064496980005\n",
      "Mean = 1.3377837497203708\n",
      "Median = 1.317440838\n",
      "Standard deviation = 0.3169793718599023\n",
      "Min = 0.586478779\n",
      "Max = 2.129791061\n"
     ]
    },
    {
     "data": {
      "image/png": "[encoded data removed]",
      "text/plain": [
       "<Figure size 432x288 with 1 Axes>"
      ]
     },
     "metadata": {
      "needs_background": "light"
     },
     "output_type": "display_data"
    }
   ],
   "source": [
    "plt.boxplot(miceData['CaNA_N'])\n",
    "plt.ylabel('Range')\n",
    "plt.xlabel('CaNA_N')\n",
    "print(\"Sum = \" + str(sum(miceData['CaNA_N'])))\n",
    "print(\"Mean = \" + str(np.mean(miceData['CaNA_N'])))\n",
    "print(\"Median = \" + str(np.median(miceData['CaNA_N'])))\n",
    "print(\"Standard deviation = \" + str(np.std(miceData['CaNA_N'])))\n",
    "print(\"Min = \" + str(np.min(miceData['CaNA_N'])))\n",
    "print(\"Max = \" + str(np.max(miceData['CaNA_N'])))"
   ]
  },
  {
   "cell_type": "code",
   "execution_count": 13,
   "metadata": {},
   "outputs": [
    {
     "name": "stdout",
     "output_type": "stream",
     "text": [
      "Sum = 195.804110271\n",
      "Mean = 0.18130010210277778\n",
      "Median = 0.1826720455\n",
      "Standard deviation = 0.02490741446413085\n",
      "Min = 0.099734364\n",
      "Max = 0.260738634\n"
     ]
    },
    {
     "data": {
      "image/png": "[encoded data removed]",
      "text/plain": [
       "<Figure size 432x288 with 1 Axes>"
      ]
     },
     "metadata": {
      "needs_background": "light"
     },
     "output_type": "display_data"
    }
   ],
   "source": [
    "plt.boxplot(miceData['nNOS_N'])\n",
    "plt.ylabel('Range')\n",
    "plt.xlabel('nNOS_N')\n",
    "print(\"Sum = \" + str(sum(miceData['nNOS_N'])))\n",
    "print(\"Mean = \" + str(np.mean(miceData['nNOS_N'])))\n",
    "print(\"Median = \" + str(np.median(miceData['nNOS_N'])))\n",
    "print(\"Standard deviation = \" + str(np.std(miceData['nNOS_N'])))\n",
    "print(\"Min = \" + str(np.min(miceData['nNOS_N'])))\n",
    "print(\"Max = \" + str(np.max(miceData['nNOS_N'])))"
   ]
  },
  {
   "cell_type": "code",
   "execution_count": 14,
   "metadata": {},
   "outputs": [
    {
     "name": "stdout",
     "output_type": "stream",
     "text": [
      "Sum = 2320.17902902423\n",
      "Mean = 2.1483139157631763\n",
      "Median = 2.1271399105\n",
      "Standard deviation = 0.43210577229445163\n",
      "Min = 1.134886146\n",
      "Max = 3.680551799\n"
     ]
    },
    {
     "data": {
      "image/png": "[encoded data removed]",
      "text/plain": [
       "<Figure size 432x288 with 1 Axes>"
      ]
     },
     "metadata": {
      "needs_background": "light"
     },
     "output_type": "display_data"
    }
   ],
   "source": [
    "plt.boxplot(miceData['Bcatenin_N'])\n",
    "plt.ylabel('Range')\n",
    "plt.xlabel('Bcatenin_N')\n",
    "print(\"Sum = \" + str(sum(miceData['Bcatenin_N'])))\n",
    "print(\"Mean = \" + str(np.mean(miceData['Bcatenin_N'])))\n",
    "print(\"Median = \" + str(np.median(miceData['Bcatenin_N'])))\n",
    "print(\"Standard deviation = \" + str(np.std(miceData['Bcatenin_N'])))\n",
    "print(\"Min = \" + str(np.min(miceData['Bcatenin_N'])))\n",
    "print(\"Max = \" + str(np.max(miceData['Bcatenin_N'])))"
   ]
  },
  {
   "cell_type": "code",
   "execution_count": 15,
   "metadata": {},
   "outputs": [
    {
     "name": "stdout",
     "output_type": "stream",
     "text": [
      "Sum = 195.566508338\n",
      "Mean = 0.18108010031296295\n",
      "Median = 0.1782350315\n",
      "Standard deviation = 0.02928280939043787\n",
      "Min = 0.117998506\n",
      "Max = 0.316575348\n"
     ]
    },
    {
     "data": {
      "image/png": "[encoded data removed]",
      "text/plain": [
       "<Figure size 432x288 with 1 Axes>"
      ]
     },
     "metadata": {
      "needs_background": "light"
     },
     "output_type": "display_data"
    }
   ],
   "source": [
    "plt.boxplot(miceData['NUMB_N'])\n",
    "plt.ylabel('Range')\n",
    "plt.xlabel('NUMB_N')\n",
    "print(\"Sum = \" + str(sum(miceData['NUMB_N'])))\n",
    "print(\"Mean = \" + str(np.mean(miceData['NUMB_N'])))\n",
    "print(\"Median = \" + str(np.median(miceData['NUMB_N'])))\n",
    "print(\"Standard deviation = \" + str(np.std(miceData['NUMB_N'])))\n",
    "print(\"Min = \" + str(np.min(miceData['NUMB_N'])))\n",
    "print(\"Max = \" + str(np.max(miceData['NUMB_N'])))"
   ]
  },
  {
   "cell_type": "code",
   "execution_count": 16,
   "metadata": {},
   "outputs": [
    {
     "name": "stdout",
     "output_type": "stream",
     "text": [
      "Sum = 260.9795603501143\n",
      "Mean = 0.24164774106492065\n",
      "Median = 0.24481851999999998\n",
      "Standard deviation = 0.033838137808961596\n",
      "Min = 0.04629779\n",
      "Max = 0.387190684\n"
     ]
    },
    {
     "data": {
      "image/png": "[encoded data removed]",
      "text/plain": [
       "<Figure size 432x288 with 1 Axes>"
      ]
     },
     "metadata": {
      "needs_background": "light"
     },
     "output_type": "display_data"
    }
   ],
   "source": [
    "plt.boxplot(miceData['JNK_N'])\n",
    "plt.ylabel('Range')\n",
    "plt.xlabel('JNK_N')\n",
    "print(\"Sum = \" + str(sum(miceData['JNK_N'])))\n",
    "print(\"Mean = \" + str(np.mean(miceData['JNK_N'])))\n",
    "print(\"Median = \" + str(np.median(miceData['JNK_N'])))\n",
    "print(\"Standard deviation = \" + str(np.std(miceData['JNK_N'])))\n",
    "print(\"Min = \" + str(np.min(miceData['JNK_N'])))\n",
    "print(\"Max = \" + str(np.max(miceData['JNK_N'])))"
   ]
  },
  {
   "cell_type": "code",
   "execution_count": 17,
   "metadata": {},
   "outputs": [
    {
     "name": "stdout",
     "output_type": "stream",
     "text": [
      "Sum = 198.24182231395855\n",
      "Mean = 0.18355724288329495\n",
      "Median = 0.1749351515\n",
      "Standard deviation = 0.037436578868279315\n",
      "Min = 0.105537204\n",
      "Max = 0.360692103\n"
     ]
    },
    {
     "data": {
      "image/png": "[encoded data removed]",
      "text/plain": [
       "<Figure size 432x288 with 1 Axes>"
      ]
     },
     "metadata": {
      "needs_background": "light"
     },
     "output_type": "display_data"
    }
   ],
   "source": [
    "plt.boxplot(miceData['EGR1_N'])\n",
    "plt.ylabel('Range')\n",
    "plt.xlabel('EGR1_N')\n",
    "print(\"Sum = \" + str(sum(miceData['EGR1_N'])))\n",
    "print(\"Mean = \" + str(np.mean(miceData['EGR1_N'])))\n",
    "print(\"Median = \" + str(np.median(miceData['EGR1_N'])))\n",
    "print(\"Standard deviation = \" + str(np.std(miceData['EGR1_N'])))\n",
    "print(\"Min = \" + str(np.min(miceData['EGR1_N'])))\n",
    "print(\"Max = \" + str(np.max(miceData['EGR1_N'])))"
   ]
  },
  {
   "cell_type": "code",
   "execution_count": 18,
   "metadata": {},
   "outputs": [
    {
     "name": "stdout",
     "output_type": "stream",
     "text": [
      "Sum = 239.59903571899991\n",
      "Mean = 0.221850958999074\n",
      "Median = 0.21690203\n",
      "Standard deviation = 0.03486962380219961\n",
      "Min = 0.111382114\n",
      "Max = 0.331015923\n"
     ]
    },
    {
     "data": {
      "image/png": "[encoded data removed]",
      "text/plain": [
       "<Figure size 432x288 with 1 Axes>"
      ]
     },
     "metadata": {
      "needs_background": "light"
     },
     "output_type": "display_data"
    }
   ],
   "source": [
    "plt.boxplot(miceData['GluR3_N'])\n",
    "plt.ylabel('Range')\n",
    "plt.xlabel('GluR3_N')\n",
    "print(\"Sum = \" + str(sum(miceData['GluR3_N'])))\n",
    "print(\"Mean = \" + str(np.mean(miceData['GluR3_N'])))\n",
    "print(\"Median = \" + str(np.median(miceData['GluR3_N'])))\n",
    "print(\"Standard deviation = \" + str(np.std(miceData['GluR3_N'])))\n",
    "print(\"Min = \" + str(np.min(miceData['GluR3_N'])))\n",
    "print(\"Max = \" + str(np.max(miceData['GluR3_N'])))"
   ]
  },
  {
   "cell_type": "code",
   "execution_count": 19,
   "metadata": {},
   "outputs": [
    {
     "name": "stdout",
     "output_type": "stream",
     "text": [
      "Sum = 136.68493276999993\n",
      "Mean = 0.12656012293518512\n",
      "Median = 0.123549039\n",
      "Standard deviation = 0.02687251447986297\n",
      "Min = 0.072579682\n",
      "Max = 0.537004104\n"
     ]
    },
    {
     "data": {
      "image/png": "[encoded data removed]",
      "text/plain": [
       "<Figure size 432x288 with 1 Axes>"
      ]
     },
     "metadata": {
      "needs_background": "light"
     },
     "output_type": "display_data"
    }
   ],
   "source": [
    "plt.boxplot(miceData['GluR4_N'])\n",
    "plt.ylabel('Range')\n",
    "plt.xlabel('GluR4_N')\n",
    "print(\"Sum = \" + str(sum(miceData['GluR4_N'])))\n",
    "print(\"Mean = \" + str(np.mean(miceData['GluR4_N'])))\n",
    "print(\"Median = \" + str(np.median(miceData['GluR4_N'])))\n",
    "print(\"Standard deviation = \" + str(np.std(miceData['GluR4_N'])))\n",
    "print(\"Min = \" + str(np.min(miceData['GluR4_N'])))\n",
    "print(\"Max = \" + str(np.max(miceData['GluR4_N'])))"
   ]
  },
  {
   "cell_type": "code",
   "execution_count": 20,
   "metadata": {},
   "outputs": [
    {
     "name": "stdout",
     "output_type": "stream",
     "text": [
      "Sum = 314.5783903059999\n",
      "Mean = 0.2912762873203703\n",
      "Median = 0.2906460025\n",
      "Standard deviation = 0.030001227971550325\n",
      "Min = 0.207437817\n",
      "Max = 0.443735036\n"
     ]
    },
    {
     "data": {
      "image/png": "[encoded data removed]",
      "text/plain": [
       "<Figure size 432x288 with 1 Axes>"
      ]
     },
     "metadata": {
      "needs_background": "light"
     },
     "output_type": "display_data"
    }
   ],
   "source": [
    "plt.boxplot(miceData['P3525_N'])\n",
    "plt.ylabel('Range')\n",
    "plt.xlabel('P3525_N')\n",
    "print(\"Sum = \" + str(sum(miceData['P3525_N'])))\n",
    "print(\"Mean = \" + str(np.mean(miceData['P3525_N'])))\n",
    "print(\"Median = \" + str(np.median(miceData['P3525_N'])))\n",
    "print(\"Standard deviation = \" + str(np.std(miceData['P3525_N'])))\n",
    "print(\"Min = \" + str(np.min(miceData['P3525_N'])))\n",
    "print(\"Max = \" + str(np.max(miceData['P3525_N'])))"
   ]
  },
  {
   "cell_type": "code",
   "execution_count": 21,
   "metadata": {},
   "outputs": [],
   "source": [
    "# Visualizing 10 pairs of columns"
   ]
  },
  {
   "cell_type": "code",
   "execution_count": 22,
   "metadata": {},
   "outputs": [
    {
     "data": {
      "image/png": "[encoded data removed]",
      "text/plain": [
       "<Figure size 432x288 with 1 Axes>"
      ]
     },
     "metadata": {
      "needs_background": "light"
     },
     "output_type": "display_data"
    }
   ],
   "source": [
    "plt.bar(miceData.iloc[:,78], miceData.iloc[:,60])\n",
    "plt.grid(color='k', linestyle='-', linewidth=1.0)\n",
    "plt.xlabel('Genotype')\n",
    "plt.ylabel('Range of ' + miceData.columns[60])\n",
    "plt.rcParams[\"figure.figsize\"] = (5,5)"
   ]
  },
  {
   "cell_type": "code",
   "execution_count": 23,
   "metadata": {},
   "outputs": [
    {
     "data": {
      "image/png": "[encoded data removed]",
      "text/plain": [
       "<Figure size 360x360 with 1 Axes>"
      ]
     },
     "metadata": {
      "needs_background": "light"
     },
     "output_type": "display_data"
    }
   ],
   "source": [
    "import matplotlib.pyplot as plt\n",
    "plt.bar(miceData.iloc[:,78], miceData.iloc[:,9])\n",
    "plt.grid(color='k', linestyle='-', linewidth=1.0)\n",
    "plt.xlabel('Genotype')\n",
    "plt.ylabel('Range of ' + miceData.columns[9])\n",
    "plt.rcParams[\"figure.figsize\"] = (5,5)"
   ]
  },
  {
   "cell_type": "code",
   "execution_count": 24,
   "metadata": {},
   "outputs": [
    {
     "data": {
      "image/png": "[encoded data removed]",
      "text/plain": [
       "<Figure size 360x360 with 1 Axes>"
      ]
     },
     "metadata": {
      "needs_background": "light"
     },
     "output_type": "display_data"
    }
   ],
   "source": [
    "import matplotlib.pyplot as plt\n",
    "plt.bar(miceData.iloc[:,78], miceData.iloc[:,48])\n",
    "plt.grid(color='k', linestyle='-', linewidth=1.0)\n",
    "plt.xlabel('Genotype')\n",
    "plt.ylabel('Range of ' + miceData.columns[48])\n",
    "plt.rcParams[\"figure.figsize\"] = (5,5)"
   ]
  },
  {
   "cell_type": "code",
   "execution_count": 25,
   "metadata": {},
   "outputs": [
    {
     "data": {
      "image/png": "[encoded data removed]",
      "text/plain": [
       "<Figure size 360x360 with 1 Axes>"
      ]
     },
     "metadata": {
      "needs_background": "light"
     },
     "output_type": "display_data"
    }
   ],
   "source": [
    "import matplotlib.pyplot as plt\n",
    "plt.bar(miceData.iloc[:,78], miceData.iloc[:,7])\n",
    "plt.grid(color='k', linestyle='-', linewidth=1.0)\n",
    "plt.xlabel('Genotype')\n",
    "plt.ylabel('Range of ' + miceData.columns[7])\n",
    "plt.rcParams[\"figure.figsize\"] = (5,5)"
   ]
  },
  {
   "cell_type": "code",
   "execution_count": 26,
   "metadata": {},
   "outputs": [
    {
     "data": {
      "image/png": "[encoded data removed]",
      "text/plain": [
       "<Figure size 360x360 with 1 Axes>"
      ]
     },
     "metadata": {
      "needs_background": "light"
     },
     "output_type": "display_data"
    }
   ],
   "source": [
    "import matplotlib.pyplot as plt\n",
    "plt.bar(miceData.iloc[:,79], miceData.iloc[:,2])\n",
    "plt.grid(color='k', linestyle='-', linewidth=1.0)\n",
    "plt.xlabel('Treatment')\n",
    "plt.ylabel('Range of ' + miceData.columns[2])\n",
    "plt.rcParams[\"figure.figsize\"] = (5,5)"
   ]
  },
  {
   "cell_type": "code",
   "execution_count": 27,
   "metadata": {},
   "outputs": [
    {
     "data": {
      "image/png": "[encoded data removed]",
      "text/plain": [
       "<Figure size 360x360 with 1 Axes>"
      ]
     },
     "metadata": {
      "needs_background": "light"
     },
     "output_type": "display_data"
    }
   ],
   "source": [
    "import matplotlib.pyplot as plt\n",
    "plt.bar(miceData.iloc[:,79], miceData.iloc[:,9])\n",
    "plt.grid(color='k', linestyle='-', linewidth=1.0)\n",
    "plt.xlabel('Treatment')\n",
    "plt.ylabel('Range of ' + miceData.columns[9])\n",
    "plt.rcParams[\"figure.figsize\"] = (5,5)"
   ]
  },
  {
   "cell_type": "code",
   "execution_count": 28,
   "metadata": {},
   "outputs": [
    {
     "data": {
      "image/png": "[encoded data removed]",
      "text/plain": [
       "<Figure size 360x360 with 1 Axes>"
      ]
     },
     "metadata": {
      "needs_background": "light"
     },
     "output_type": "display_data"
    }
   ],
   "source": [
    "import matplotlib.pyplot as plt\n",
    "plt.bar(miceData.iloc[:,80], miceData.iloc[:,11])\n",
    "plt.grid(color='k', linestyle='-', linewidth=1.0)\n",
    "plt.xlabel('Behavior')\n",
    "plt.ylabel('Range of ' + miceData.columns[11])\n",
    "plt.rcParams[\"figure.figsize\"] = (5,5)"
   ]
  },
  {
   "cell_type": "code",
   "execution_count": 29,
   "metadata": {},
   "outputs": [
    {
     "data": {
      "image/png": "[encoded data removed]",
      "text/plain": [
       "<Figure size 360x360 with 1 Axes>"
      ]
     },
     "metadata": {
      "needs_background": "light"
     },
     "output_type": "display_data"
    }
   ],
   "source": [
    "import matplotlib.pyplot as plt\n",
    "plt.bar(miceData.iloc[:,80], miceData.iloc[:,13])\n",
    "plt.grid(color='k', linestyle='-', linewidth=1.0)\n",
    "plt.xlabel('Behavior')\n",
    "plt.ylabel('Range of ' + miceData.columns[13])\n",
    "plt.rcParams[\"figure.figsize\"] = (5,5)"
   ]
  },
  {
   "cell_type": "code",
   "execution_count": 30,
   "metadata": {},
   "outputs": [
    {
     "data": {
      "image/png": "[encoded data removed]",
      "text/plain": [
       "<Figure size 360x360 with 1 Axes>"
      ]
     },
     "metadata": {
      "needs_background": "light"
     },
     "output_type": "display_data"
    }
   ],
   "source": [
    "import matplotlib.pyplot as plt\n",
    "plt.bar(miceData.iloc[:,80], miceData.iloc[:,19])\n",
    "plt.grid(color='k', linestyle='-', linewidth=1.0)\n",
    "plt.xlabel('Behavior')\n",
    "plt.ylabel('Range of ' + miceData.columns[19])\n",
    "plt.rcParams[\"figure.figsize\"] = (5,5)"
   ]
  },
  {
   "cell_type": "code",
   "execution_count": 31,
   "metadata": {},
   "outputs": [
    {
     "data": {
      "image/png": "[encoded data removed]",
      "text/plain": [
       "<Figure size 360x360 with 1 Axes>"
      ]
     },
     "metadata": {
      "needs_background": "light"
     },
     "output_type": "display_data"
    }
   ],
   "source": [
    "import matplotlib.pyplot as plt\n",
    "plt.bar(miceData.iloc[:,80], miceData.iloc[:,33])\n",
    "plt.grid(color='k', linestyle='-', linewidth=1.0)\n",
    "plt.xlabel('Behavior')\n",
    "plt.ylabel('Range of ' + miceData.columns[33])\n",
    "plt.rcParams[\"figure.figsize\"] = (5,5)"
   ]
  },
  {
   "cell_type": "code",
   "execution_count": 32,
   "metadata": {},
   "outputs": [],
   "source": [
    "# Dividing the datset into independent and dependent varaibles\n",
    "data = miceData.iloc[:,1:78]\n",
    "target = miceData.iloc[:,81]"
   ]
  },
  {
   "cell_type": "code",
   "execution_count": 33,
   "metadata": {},
   "outputs": [
    {
     "data": {
      "text/html": [
       "<div>\n",
       "<style scoped>\n",
       "    .dataframe tbody tr th:only-of-type {\n",
       "        vertical-align: middle;\n",
       "    }\n",
       "\n",
       "    .dataframe tbody tr th {\n",
       "        vertical-align: top;\n",
       "    }\n",
       "\n",
       "    .dataframe thead th {\n",
       "        text-align: right;\n",
       "    }\n",
       "</style>\n",
       "<table border=\"1\" class=\"dataframe\">\n",
       "  <thead>\n",
       "    <tr style=\"text-align: right;\">\n",
       "      <th></th>\n",
       "      <th>DYRK1A_N</th>\n",
       "      <th>ITSN1_N</th>\n",
       "      <th>BDNF_N</th>\n",
       "      <th>NR1_N</th>\n",
       "      <th>NR2A_N</th>\n",
       "      <th>pAKT_N</th>\n",
       "      <th>pBRAF_N</th>\n",
       "      <th>pCAMKII_N</th>\n",
       "      <th>pCREB_N</th>\n",
       "      <th>pELK_N</th>\n",
       "      <th>...</th>\n",
       "      <th>SHH_N</th>\n",
       "      <th>BAD_N</th>\n",
       "      <th>BCL2_N</th>\n",
       "      <th>pS6_N</th>\n",
       "      <th>pCFOS_N</th>\n",
       "      <th>SYP_N</th>\n",
       "      <th>H3AcK18_N</th>\n",
       "      <th>EGR1_N</th>\n",
       "      <th>H3MeK4_N</th>\n",
       "      <th>CaNA_N</th>\n",
       "    </tr>\n",
       "  </thead>\n",
       "  <tbody>\n",
       "    <tr>\n",
       "      <th>0</th>\n",
       "      <td>0.503644</td>\n",
       "      <td>0.747193</td>\n",
       "      <td>0.430175</td>\n",
       "      <td>2.816329</td>\n",
       "      <td>5.990152</td>\n",
       "      <td>0.218830</td>\n",
       "      <td>0.177565</td>\n",
       "      <td>2.373744</td>\n",
       "      <td>0.232224</td>\n",
       "      <td>1.750936</td>\n",
       "      <td>...</td>\n",
       "      <td>0.188852</td>\n",
       "      <td>0.122652</td>\n",
       "      <td>0.132539</td>\n",
       "      <td>0.106305</td>\n",
       "      <td>0.108336</td>\n",
       "      <td>0.427099</td>\n",
       "      <td>0.114783</td>\n",
       "      <td>0.131790</td>\n",
       "      <td>0.128186</td>\n",
       "      <td>1.675652</td>\n",
       "    </tr>\n",
       "    <tr>\n",
       "      <th>1</th>\n",
       "      <td>0.514617</td>\n",
       "      <td>0.689064</td>\n",
       "      <td>0.411770</td>\n",
       "      <td>2.789514</td>\n",
       "      <td>5.685038</td>\n",
       "      <td>0.211636</td>\n",
       "      <td>0.172817</td>\n",
       "      <td>2.292150</td>\n",
       "      <td>0.226972</td>\n",
       "      <td>1.596377</td>\n",
       "      <td>...</td>\n",
       "      <td>0.200404</td>\n",
       "      <td>0.116682</td>\n",
       "      <td>0.132539</td>\n",
       "      <td>0.106592</td>\n",
       "      <td>0.104315</td>\n",
       "      <td>0.441581</td>\n",
       "      <td>0.111974</td>\n",
       "      <td>0.135103</td>\n",
       "      <td>0.131119</td>\n",
       "      <td>1.743610</td>\n",
       "    </tr>\n",
       "    <tr>\n",
       "      <th>2</th>\n",
       "      <td>0.509183</td>\n",
       "      <td>0.730247</td>\n",
       "      <td>0.418309</td>\n",
       "      <td>2.687201</td>\n",
       "      <td>5.622059</td>\n",
       "      <td>0.209011</td>\n",
       "      <td>0.175722</td>\n",
       "      <td>2.283337</td>\n",
       "      <td>0.230247</td>\n",
       "      <td>1.561316</td>\n",
       "      <td>...</td>\n",
       "      <td>0.193685</td>\n",
       "      <td>0.118508</td>\n",
       "      <td>0.132539</td>\n",
       "      <td>0.108303</td>\n",
       "      <td>0.106219</td>\n",
       "      <td>0.435777</td>\n",
       "      <td>0.111883</td>\n",
       "      <td>0.133362</td>\n",
       "      <td>0.127431</td>\n",
       "      <td>1.926427</td>\n",
       "    </tr>\n",
       "    <tr>\n",
       "      <th>3</th>\n",
       "      <td>0.442107</td>\n",
       "      <td>0.617076</td>\n",
       "      <td>0.358626</td>\n",
       "      <td>2.466947</td>\n",
       "      <td>4.979503</td>\n",
       "      <td>0.222886</td>\n",
       "      <td>0.176463</td>\n",
       "      <td>2.152301</td>\n",
       "      <td>0.207004</td>\n",
       "      <td>1.595086</td>\n",
       "      <td>...</td>\n",
       "      <td>0.192112</td>\n",
       "      <td>0.132781</td>\n",
       "      <td>0.132539</td>\n",
       "      <td>0.103184</td>\n",
       "      <td>0.111262</td>\n",
       "      <td>0.391691</td>\n",
       "      <td>0.130405</td>\n",
       "      <td>0.147444</td>\n",
       "      <td>0.146901</td>\n",
       "      <td>1.700563</td>\n",
       "    </tr>\n",
       "    <tr>\n",
       "      <th>4</th>\n",
       "      <td>0.434940</td>\n",
       "      <td>0.617430</td>\n",
       "      <td>0.358802</td>\n",
       "      <td>2.365785</td>\n",
       "      <td>4.718679</td>\n",
       "      <td>0.213106</td>\n",
       "      <td>0.173627</td>\n",
       "      <td>2.134014</td>\n",
       "      <td>0.192158</td>\n",
       "      <td>1.504230</td>\n",
       "      <td>...</td>\n",
       "      <td>0.205604</td>\n",
       "      <td>0.129954</td>\n",
       "      <td>0.132539</td>\n",
       "      <td>0.104784</td>\n",
       "      <td>0.110694</td>\n",
       "      <td>0.434154</td>\n",
       "      <td>0.118481</td>\n",
       "      <td>0.140314</td>\n",
       "      <td>0.148380</td>\n",
       "      <td>1.839730</td>\n",
       "    </tr>\n",
       "  </tbody>\n",
       "</table>\n",
       "<p>5 rows × 77 columns</p>\n",
       "</div>"
      ],
      "text/plain": [
       "   DYRK1A_N   ITSN1_N    BDNF_N     NR1_N    NR2A_N    pAKT_N   pBRAF_N  \\\n",
       "0  0.503644  0.747193  0.430175  2.816329  5.990152  0.218830  0.177565   \n",
       "1  0.514617  0.689064  0.411770  2.789514  5.685038  0.211636  0.172817   \n",
       "2  0.509183  0.730247  0.418309  2.687201  5.622059  0.209011  0.175722   \n",
       "3  0.442107  0.617076  0.358626  2.466947  4.979503  0.222886  0.176463   \n",
       "4  0.434940  0.617430  0.358802  2.365785  4.718679  0.213106  0.173627   \n",
       "\n",
       "   pCAMKII_N   pCREB_N    pELK_N  ...     SHH_N     BAD_N    BCL2_N     pS6_N  \\\n",
       "0   2.373744  0.232224  1.750936  ...  0.188852  0.122652  0.132539  0.106305   \n",
       "1   2.292150  0.226972  1.596377  ...  0.200404  0.116682  0.132539  0.106592   \n",
       "2   2.283337  0.230247  1.561316  ...  0.193685  0.118508  0.132539  0.108303   \n",
       "3   2.152301  0.207004  1.595086  ...  0.192112  0.132781  0.132539  0.103184   \n",
       "4   2.134014  0.192158  1.504230  ...  0.205604  0.129954  0.132539  0.104784   \n",
       "\n",
       "    pCFOS_N     SYP_N  H3AcK18_N    EGR1_N  H3MeK4_N    CaNA_N  \n",
       "0  0.108336  0.427099   0.114783  0.131790  0.128186  1.675652  \n",
       "1  0.104315  0.441581   0.111974  0.135103  0.131119  1.743610  \n",
       "2  0.106219  0.435777   0.111883  0.133362  0.127431  1.926427  \n",
       "3  0.111262  0.391691   0.130405  0.147444  0.146901  1.700563  \n",
       "4  0.110694  0.434154   0.118481  0.140314  0.148380  1.839730  \n",
       "\n",
       "[5 rows x 77 columns]"
      ]
     },
     "execution_count": 33,
     "metadata": {},
     "output_type": "execute_result"
    }
   ],
   "source": [
    "# Viewing the data before normalization\n",
    "data.head(5)"
   ]
  },
  {
   "cell_type": "code",
   "execution_count": 34,
   "metadata": {},
   "outputs": [],
   "source": [
    "# Normalizing the data\n",
    "scaler = MinMaxScaler()\n",
    "scaler.fit(data)\n",
    "data = data.apply(lambda x : (x - x.min(axis = 0))/(x.max(axis = 0) - x.min(axis = 0)))"
   ]
  },
  {
   "cell_type": "code",
   "execution_count": 35,
   "metadata": {},
   "outputs": [
    {
     "data": {
      "text/html": [
       "<div>\n",
       "<style scoped>\n",
       "    .dataframe tbody tr th:only-of-type {\n",
       "        vertical-align: middle;\n",
       "    }\n",
       "\n",
       "    .dataframe tbody tr th {\n",
       "        vertical-align: top;\n",
       "    }\n",
       "\n",
       "    .dataframe thead th {\n",
       "        text-align: right;\n",
       "    }\n",
       "</style>\n",
       "<table border=\"1\" class=\"dataframe\">\n",
       "  <thead>\n",
       "    <tr style=\"text-align: right;\">\n",
       "      <th></th>\n",
       "      <th>DYRK1A_N</th>\n",
       "      <th>ITSN1_N</th>\n",
       "      <th>BDNF_N</th>\n",
       "      <th>NR1_N</th>\n",
       "      <th>NR2A_N</th>\n",
       "      <th>pAKT_N</th>\n",
       "      <th>pBRAF_N</th>\n",
       "      <th>pCAMKII_N</th>\n",
       "      <th>pCREB_N</th>\n",
       "      <th>pELK_N</th>\n",
       "      <th>...</th>\n",
       "      <th>SHH_N</th>\n",
       "      <th>BAD_N</th>\n",
       "      <th>BCL2_N</th>\n",
       "      <th>pS6_N</th>\n",
       "      <th>pCFOS_N</th>\n",
       "      <th>SYP_N</th>\n",
       "      <th>H3AcK18_N</th>\n",
       "      <th>EGR1_N</th>\n",
       "      <th>H3MeK4_N</th>\n",
       "      <th>CaNA_N</th>\n",
       "    </tr>\n",
       "  </thead>\n",
       "  <tbody>\n",
       "    <tr>\n",
       "      <th>0</th>\n",
       "      <td>0.151122</td>\n",
       "      <td>0.212885</td>\n",
       "      <td>0.824638</td>\n",
       "      <td>0.612119</td>\n",
       "      <td>0.630482</td>\n",
       "      <td>0.327006</td>\n",
       "      <td>0.448666</td>\n",
       "      <td>0.168257</td>\n",
       "      <td>0.617322</td>\n",
       "      <td>0.232553</td>\n",
       "      <td>...</td>\n",
       "      <td>0.162941</td>\n",
       "      <td>0.177312</td>\n",
       "      <td>0.286884</td>\n",
       "      <td>0.426816</td>\n",
       "      <td>0.133930</td>\n",
       "      <td>0.336299</td>\n",
       "      <td>0.087715</td>\n",
       "      <td>0.102890</td>\n",
       "      <td>0.084580</td>\n",
       "      <td>0.705738</td>\n",
       "    </tr>\n",
       "    <tr>\n",
       "      <th>1</th>\n",
       "      <td>0.155750</td>\n",
       "      <td>0.188226</td>\n",
       "      <td>0.776455</td>\n",
       "      <td>0.601070</td>\n",
       "      <td>0.585247</td>\n",
       "      <td>0.311887</td>\n",
       "      <td>0.429899</td>\n",
       "      <td>0.154925</td>\n",
       "      <td>0.590173</td>\n",
       "      <td>0.205362</td>\n",
       "      <td>...</td>\n",
       "      <td>0.220010</td>\n",
       "      <td>0.146494</td>\n",
       "      <td>0.286884</td>\n",
       "      <td>0.429952</td>\n",
       "      <td>0.110434</td>\n",
       "      <td>0.365208</td>\n",
       "      <td>0.080692</td>\n",
       "      <td>0.115874</td>\n",
       "      <td>0.093977</td>\n",
       "      <td>0.749771</td>\n",
       "    </tr>\n",
       "    <tr>\n",
       "      <th>2</th>\n",
       "      <td>0.153459</td>\n",
       "      <td>0.205696</td>\n",
       "      <td>0.793572</td>\n",
       "      <td>0.558911</td>\n",
       "      <td>0.575910</td>\n",
       "      <td>0.306369</td>\n",
       "      <td>0.441381</td>\n",
       "      <td>0.153485</td>\n",
       "      <td>0.607102</td>\n",
       "      <td>0.199194</td>\n",
       "      <td>...</td>\n",
       "      <td>0.186816</td>\n",
       "      <td>0.155920</td>\n",
       "      <td>0.286884</td>\n",
       "      <td>0.448652</td>\n",
       "      <td>0.121560</td>\n",
       "      <td>0.353621</td>\n",
       "      <td>0.080465</td>\n",
       "      <td>0.109050</td>\n",
       "      <td>0.082162</td>\n",
       "      <td>0.868229</td>\n",
       "    </tr>\n",
       "    <tr>\n",
       "      <th>3</th>\n",
       "      <td>0.125169</td>\n",
       "      <td>0.157688</td>\n",
       "      <td>0.637326</td>\n",
       "      <td>0.468152</td>\n",
       "      <td>0.480646</td>\n",
       "      <td>0.335530</td>\n",
       "      <td>0.444307</td>\n",
       "      <td>0.132074</td>\n",
       "      <td>0.486945</td>\n",
       "      <td>0.205135</td>\n",
       "      <td>...</td>\n",
       "      <td>0.179047</td>\n",
       "      <td>0.229602</td>\n",
       "      <td>0.286884</td>\n",
       "      <td>0.392700</td>\n",
       "      <td>0.151031</td>\n",
       "      <td>0.265619</td>\n",
       "      <td>0.126763</td>\n",
       "      <td>0.164241</td>\n",
       "      <td>0.144543</td>\n",
       "      <td>0.721879</td>\n",
       "    </tr>\n",
       "    <tr>\n",
       "      <th>4</th>\n",
       "      <td>0.122146</td>\n",
       "      <td>0.157838</td>\n",
       "      <td>0.637787</td>\n",
       "      <td>0.426467</td>\n",
       "      <td>0.441977</td>\n",
       "      <td>0.314976</td>\n",
       "      <td>0.433100</td>\n",
       "      <td>0.129086</td>\n",
       "      <td>0.410194</td>\n",
       "      <td>0.189152</td>\n",
       "      <td>...</td>\n",
       "      <td>0.245702</td>\n",
       "      <td>0.215008</td>\n",
       "      <td>0.286884</td>\n",
       "      <td>0.410187</td>\n",
       "      <td>0.147711</td>\n",
       "      <td>0.350381</td>\n",
       "      <td>0.096959</td>\n",
       "      <td>0.136298</td>\n",
       "      <td>0.149281</td>\n",
       "      <td>0.812053</td>\n",
       "    </tr>\n",
       "  </tbody>\n",
       "</table>\n",
       "<p>5 rows × 77 columns</p>\n",
       "</div>"
      ],
      "text/plain": [
       "   DYRK1A_N   ITSN1_N    BDNF_N     NR1_N    NR2A_N    pAKT_N   pBRAF_N  \\\n",
       "0  0.151122  0.212885  0.824638  0.612119  0.630482  0.327006  0.448666   \n",
       "1  0.155750  0.188226  0.776455  0.601070  0.585247  0.311887  0.429899   \n",
       "2  0.153459  0.205696  0.793572  0.558911  0.575910  0.306369  0.441381   \n",
       "3  0.125169  0.157688  0.637326  0.468152  0.480646  0.335530  0.444307   \n",
       "4  0.122146  0.157838  0.637787  0.426467  0.441977  0.314976  0.433100   \n",
       "\n",
       "   pCAMKII_N   pCREB_N    pELK_N  ...     SHH_N     BAD_N    BCL2_N     pS6_N  \\\n",
       "0   0.168257  0.617322  0.232553  ...  0.162941  0.177312  0.286884  0.426816   \n",
       "1   0.154925  0.590173  0.205362  ...  0.220010  0.146494  0.286884  0.429952   \n",
       "2   0.153485  0.607102  0.199194  ...  0.186816  0.155920  0.286884  0.448652   \n",
       "3   0.132074  0.486945  0.205135  ...  0.179047  0.229602  0.286884  0.392700   \n",
       "4   0.129086  0.410194  0.189152  ...  0.245702  0.215008  0.286884  0.410187   \n",
       "\n",
       "    pCFOS_N     SYP_N  H3AcK18_N    EGR1_N  H3MeK4_N    CaNA_N  \n",
       "0  0.133930  0.336299   0.087715  0.102890  0.084580  0.705738  \n",
       "1  0.110434  0.365208   0.080692  0.115874  0.093977  0.749771  \n",
       "2  0.121560  0.353621   0.080465  0.109050  0.082162  0.868229  \n",
       "3  0.151031  0.265619   0.126763  0.164241  0.144543  0.721879  \n",
       "4  0.147711  0.350381   0.096959  0.136298  0.149281  0.812053  \n",
       "\n",
       "[5 rows x 77 columns]"
      ]
     },
     "execution_count": 35,
     "metadata": {},
     "output_type": "execute_result"
    }
   ],
   "source": [
    "# Viewing the data after normalization\n",
    "data.head(5)"
   ]
  },
  {
   "cell_type": "code",
   "execution_count": 36,
   "metadata": {},
   "outputs": [],
   "source": [
    "# Creating a k-fold reference\n",
    "kf = KFold(n_splits=5, shuffle=True)"
   ]
  },
  {
   "cell_type": "code",
   "execution_count": 37,
   "metadata": {},
   "outputs": [],
   "source": [
    "# Creating a method to print the evaluation score and returing the models accuracy\n",
    "def get_score(model, X_train, X_test, y_train, y_test):\n",
    "    model.fit(X_train, y_train)\n",
    "    y_pred = model.predict(X_test)\n",
    "    print(confusion_matrix(y_test, y_pred))\n",
    "    return model.score(X_test, y_test)"
   ]
  },
  {
   "cell_type": "code",
   "execution_count": 38,
   "metadata": {},
   "outputs": [],
   "source": [
    "# Doing paarmeter tuning for KNN\n",
    "scores_KNN = []"
   ]
  },
  {
   "cell_type": "code",
   "execution_count": 39,
   "metadata": {},
   "outputs": [],
   "source": [
    "modelKNN = KNeighborsClassifier(n_neighbors=2, weights = 'uniform', p = 2, metric = 'minkowski')"
   ]
  },
  {
   "cell_type": "code",
   "execution_count": 40,
   "metadata": {},
   "outputs": [
    {
     "name": "stdout",
     "output_type": "stream",
     "text": [
      "[[26  0  0  0  0  0  0  0]\n",
      " [ 0 28  0  0  0  0  0  0]\n",
      " [ 0  0 28  0  0  0  0  0]\n",
      " [ 0  0  0 19  0  0  0  0]\n",
      " [ 0  0  0  0 27  0  0  0]\n",
      " [ 0  0  0  0  0 22  0  0]\n",
      " [ 0  0  0  0  0  0 34  0]\n",
      " [ 0  0  0  0  0  0  0 32]]\n",
      "[[42  0  0  0  0  0  0  0]\n",
      " [ 1 25  0  0  0  0  0  0]\n",
      " [ 0  0 22  0  0  0  0  0]\n",
      " [ 0  0  0 28  0  0  0  0]\n",
      " [ 0  0  0  0 27  0  0  0]\n",
      " [ 0  0  0  0  0 21  0  0]\n",
      " [ 0  0  0  0  0  0 25  0]\n",
      " [ 0  0  0  0  0  0  0 25]]\n",
      "[[23  0  0  0  0  0  0  0]\n",
      " [ 0 28  0  0  0  0  0  0]\n",
      " [ 0  0 28  0  0  0  0  0]\n",
      " [ 0  0  0 29  0  0  0  0]\n",
      " [ 0  0  0  0 35  0  0  0]\n",
      " [ 0  0  0  0  0 18  0  0]\n",
      " [ 0  0  1  0  0  0 24  0]\n",
      " [ 0  0  0  0  0  0  0 30]]\n",
      "[[35  0  0  0  0  0  0  0]\n",
      " [ 0 23  0  0  0  0  0  0]\n",
      " [ 0  0 41  0  0  0  0  0]\n",
      " [ 0  0  2 26  0  0  0  0]\n",
      " [ 0  0  0  0 24  0  0  0]\n",
      " [ 0  0  0  0  0 18  0  0]\n",
      " [ 0  0  0  0  0  0 20  0]\n",
      " [ 0  0  0  0  0  0  0 27]]\n",
      "[[24  0  0  0  0  0  0  0]\n",
      " [ 2 28  0  0  0  0  0  0]\n",
      " [ 0  0 31  0  0  0  0  0]\n",
      " [ 0  0  0 31  0  0  0  0]\n",
      " [ 1  0  0  0 21  0  0  0]\n",
      " [ 0  0  0  0  0 26  0  0]\n",
      " [ 0  0  0  0  0  0 31  0]\n",
      " [ 0  0  0  0  0  0  0 21]]\n"
     ]
    }
   ],
   "source": [
    "for train_index, test_index in kf.split(data):\n",
    "    X_train, X_test, y_train, y_test = data.iloc[train_index], data.iloc[test_index], target.iloc[train_index], target.iloc[test_index]\n",
    "    scores_KNN.append(get_score(modelKNN, X_train, X_test, y_train, y_test))"
   ]
  },
  {
   "cell_type": "code",
   "execution_count": 41,
   "metadata": {},
   "outputs": [
    {
     "data": {
      "text/plain": [
       "0.9935185185185184"
      ]
     },
     "execution_count": 41,
     "metadata": {},
     "output_type": "execute_result"
    }
   ],
   "source": [
    "np.mean(scores_KNN)"
   ]
  },
  {
   "cell_type": "code",
   "execution_count": 42,
   "metadata": {},
   "outputs": [],
   "source": [
    "scores_KNN = []"
   ]
  },
  {
   "cell_type": "code",
   "execution_count": 43,
   "metadata": {},
   "outputs": [],
   "source": [
    "modelKNN = KNeighborsClassifier(n_neighbors=2, weights = 'uniform', p = 3, metric = 'minkowski')"
   ]
  },
  {
   "cell_type": "code",
   "execution_count": 44,
   "metadata": {},
   "outputs": [
    {
     "name": "stdout",
     "output_type": "stream",
     "text": [
      "[[24  0  0  0  0  0  0  0]\n",
      " [ 0 31  0  0  0  0  0  0]\n",
      " [ 0  0 32  0  0  0  0  0]\n",
      " [ 0  0  0 29  0  0  0  0]\n",
      " [ 0  0  0  0 27  0  0  0]\n",
      " [ 0  0  0  0  1 27  0  0]\n",
      " [ 0  0  0  0  0  0 25  0]\n",
      " [ 0  0  0  0  0  0  0 20]]\n",
      "[[28  0  0  0  0  0  0  0]\n",
      " [ 1 35  0  0  0  0  0  0]\n",
      " [ 0  0 25  0  0  0  0  0]\n",
      " [ 0  0  1 27  0  0  0  0]\n",
      " [ 0  0  0  0 31  0  0  0]\n",
      " [ 0  0  0  0  0 20  0  0]\n",
      " [ 0  0  0  0  0  0 22  0]\n",
      " [ 0  0  1  0  0  0  0 25]]\n",
      "[[36  0  0  0  0  0  0  0]\n",
      " [ 0 22  0  0  0  0  0  0]\n",
      " [ 0  0 39  0  0  0  0  0]\n",
      " [ 0  0  1 18  0  0  0  0]\n",
      " [ 0  0  0  0 25  0  0  0]\n",
      " [ 0  0  0  0  0 17  0  0]\n",
      " [ 0  0  0  0  0  0 29  0]\n",
      " [ 0  0  0  0  0  0  0 29]]\n",
      "[[29  0  0  0  1  0  0  0]\n",
      " [ 2 24  0  0  0  0  0  0]\n",
      " [ 0  0 29  0  0  0  0  0]\n",
      " [ 0  0  0 27  0  0  0  0]\n",
      " [ 0  0  0  0 27  0  0  0]\n",
      " [ 0  2  0  0  0 14  0  0]\n",
      " [ 0  0  1  0  0  0 26  0]\n",
      " [ 0  0  0  0  0  0  0 34]]\n",
      "[[32  0  0  0  0  0  0  0]\n",
      " [ 2 18  0  0  0  0  0  0]\n",
      " [ 0  0 25  0  0  0  0  0]\n",
      " [ 0  0  1 31  0  0  0  0]\n",
      " [ 1  0  0  0 24  0  0  0]\n",
      " [ 0  0  0  0  0 24  0  0]\n",
      " [ 0  0  0  0  0  0 32  0]\n",
      " [ 0  0  0  0  0  0  0 26]]\n"
     ]
    }
   ],
   "source": [
    "for train_index, test_index in kf.split(data):\n",
    "    X_train, X_test, y_train, y_test = data.iloc[train_index], data.iloc[test_index], target.iloc[train_index], target.iloc[test_index]\n",
    "    scores_KNN.append(get_score(modelKNN, X_train, X_test, y_train, y_test))"
   ]
  },
  {
   "cell_type": "code",
   "execution_count": 45,
   "metadata": {},
   "outputs": [
    {
     "data": {
      "text/plain": [
       "0.986111111111111"
      ]
     },
     "execution_count": 45,
     "metadata": {},
     "output_type": "execute_result"
    }
   ],
   "source": [
    "np.mean(scores_KNN)"
   ]
  },
  {
   "cell_type": "code",
   "execution_count": 46,
   "metadata": {},
   "outputs": [],
   "source": [
    "scores_KNN = []"
   ]
  },
  {
   "cell_type": "code",
   "execution_count": 47,
   "metadata": {},
   "outputs": [],
   "source": [
    "modelKNN = KNeighborsClassifier(n_neighbors=2, weights = 'distance', p = 3, metric = 'minkowski')"
   ]
  },
  {
   "cell_type": "code",
   "execution_count": 48,
   "metadata": {},
   "outputs": [
    {
     "name": "stdout",
     "output_type": "stream",
     "text": [
      "[[26  0  0  0  0  0  0  0]\n",
      " [ 0 19  0  0  0  0  0  0]\n",
      " [ 0  0 31  0  0  0  0  0]\n",
      " [ 0  0  0 28  0  0  0  0]\n",
      " [ 0  0  0  0 32  0  0  0]\n",
      " [ 0  0  0  0  0 21  0  0]\n",
      " [ 0  0  0  0  0  0 29  0]\n",
      " [ 0  0  0  0  0  0  0 30]]\n",
      "[[23  0  0  0  0  0  0  0]\n",
      " [ 0 24  0  0  0  0  0  0]\n",
      " [ 0  0 36  0  0  0  0  0]\n",
      " [ 0  0  0 31  0  0  0  1]\n",
      " [ 1  0  0  0 25  0  0  0]\n",
      " [ 0  0  0  0  0 19  0  0]\n",
      " [ 0  0  0  0  0  0 29  0]\n",
      " [ 0  0  0  0  0  0  0 27]]\n",
      "[[34  0  0  0  0  0  0  0]\n",
      " [ 0 26  0  0  0  0  0  0]\n",
      " [ 0  0 19  0  0  0  0  0]\n",
      " [ 0  0  0 27  0  0  0  0]\n",
      " [ 0  0  0  0 32  0  0  0]\n",
      " [ 0  0  0  0  0 21  0  0]\n",
      " [ 0  0  0  0  0  0 28  0]\n",
      " [ 0  0  0  0  0  0  0 29]]\n",
      "[[30  0  0  0  0  0  0  0]\n",
      " [ 3 37  0  0  0  0  0  0]\n",
      " [ 0  0 31  0  0  0  0  0]\n",
      " [ 0  0  0 29  0  0  0  0]\n",
      " [ 0  0  0  0 16  0  0  0]\n",
      " [ 0  0  0  0  0 21  0  0]\n",
      " [ 0  0  0  0  0  0 23  0]\n",
      " [ 0  0  0  0  0  0  0 26]]\n",
      "[[37  0  0  0  0  0  0  0]\n",
      " [ 0 24  0  0  0  2  0  0]\n",
      " [ 0  0 33  0  0  0  0  0]\n",
      " [ 0  0  0 19  0  0  0  0]\n",
      " [ 0  0  0  0 29  0  0  0]\n",
      " [ 0  0  0  0  0 23  0  0]\n",
      " [ 0  0  0  0  0  0 26  0]\n",
      " [ 0  0  0  0  0  0  0 23]]\n"
     ]
    }
   ],
   "source": [
    "for train_index, test_index in kf.split(data):\n",
    "    X_train, X_test, y_train, y_test = data.iloc[train_index], data.iloc[test_index], target.iloc[train_index], target.iloc[test_index]\n",
    "    scores_KNN.append(get_score(modelKNN, X_train, X_test, y_train, y_test))"
   ]
  },
  {
   "cell_type": "code",
   "execution_count": 49,
   "metadata": {},
   "outputs": [
    {
     "data": {
      "text/plain": [
       "0.9935185185185185"
      ]
     },
     "execution_count": 49,
     "metadata": {},
     "output_type": "execute_result"
    }
   ],
   "source": [
    "np.mean(scores_KNN)"
   ]
  },
  {
   "cell_type": "code",
   "execution_count": 50,
   "metadata": {},
   "outputs": [],
   "source": [
    "scores_KNN = []"
   ]
  },
  {
   "cell_type": "code",
   "execution_count": 51,
   "metadata": {},
   "outputs": [],
   "source": [
    "modelKNN = KNeighborsClassifier(n_neighbors=3, weights = 'distance', p = 3, metric = 'minkowski')"
   ]
  },
  {
   "cell_type": "code",
   "execution_count": 52,
   "metadata": {},
   "outputs": [
    {
     "name": "stdout",
     "output_type": "stream",
     "text": [
      "[[21  0  0  0  0  0  0  0]\n",
      " [ 2 22  0  0  0  2  0  0]\n",
      " [ 0  0 30  0  0  0  0  0]\n",
      " [ 0  0  0 24  0  0  0  0]\n",
      " [ 1  0  0  0 24  0  0  0]\n",
      " [ 0  0  0  0  0 30  0  0]\n",
      " [ 0  0  0  0  0  0 26  0]\n",
      " [ 0  0  0  0  0  0  0 34]]\n",
      "[[34  0  0  0  0  0  0  0]\n",
      " [ 1 32  0  0  0  0  0  0]\n",
      " [ 0  0 27  0  0  0  0  0]\n",
      " [ 0  0  0 26  0  0  0  0]\n",
      " [ 0  0  0  0 20  0  0  0]\n",
      " [ 0  0  0  0  0 17  0  0]\n",
      " [ 0  0  0  0  0  0 26  0]\n",
      " [ 0  0  0  0  0  0  0 33]]\n",
      "[[34  0  0  0  0  1  0  0]\n",
      " [ 0 24  0  0  0  0  0  0]\n",
      " [ 0  0 30  1  0  0  0  0]\n",
      " [ 0  0  0 23  0  0  0  0]\n",
      " [ 0  0  0  0 34  0  0  0]\n",
      " [ 0  0  0  0  0 23  0  0]\n",
      " [ 0  0  0  0  0  0 23  0]\n",
      " [ 0  0  0  0  0  0  0 23]]\n",
      "[[30  0  0  0  0  0  0  0]\n",
      " [ 2 19  0  0  0  0  0  0]\n",
      " [ 0  0 36  0  0  0  0  0]\n",
      " [ 0  0  1 37  0  0  0  0]\n",
      " [ 0  0  0  0 29  0  0  0]\n",
      " [ 0  0  0  0  0 16  0  0]\n",
      " [ 0  0  0  0  0  0 25  0]\n",
      " [ 0  0  0  0  0  0  0 21]]\n",
      "[[29  0  0  0  1  0  0  0]\n",
      " [ 0 31  0  0  0  0  0  0]\n",
      " [ 0  0 26  0  0  0  0  0]\n",
      " [ 0  0  0 23  0  0  0  1]\n",
      " [ 0  0  0  0 27  0  0  0]\n",
      " [ 0  0  0  0  0 19  0  0]\n",
      " [ 0  0  0  0  0  0 35  0]\n",
      " [ 0  0  0  0  0  0  0 24]]\n"
     ]
    }
   ],
   "source": [
    "for train_index, test_index in kf.split(data):\n",
    "    X_train, X_test, y_train, y_test = data.iloc[train_index], data.iloc[test_index], target.iloc[train_index], target.iloc[test_index]\n",
    "    scores_KNN.append(get_score(modelKNN, X_train, X_test, y_train, y_test))"
   ]
  },
  {
   "cell_type": "code",
   "execution_count": 53,
   "metadata": {},
   "outputs": [
    {
     "data": {
      "text/plain": [
       "0.9879629629629629"
      ]
     },
     "execution_count": 53,
     "metadata": {},
     "output_type": "execute_result"
    }
   ],
   "source": [
    "np.mean(scores_KNN)"
   ]
  },
  {
   "cell_type": "code",
   "execution_count": 54,
   "metadata": {},
   "outputs": [],
   "source": [
    "scores_KNN = []"
   ]
  },
  {
   "cell_type": "code",
   "execution_count": 55,
   "metadata": {},
   "outputs": [],
   "source": [
    "modelKNN = KNeighborsClassifier(n_neighbors=4, weights = 'uniform', p = 2, metric = 'minkowski')"
   ]
  },
  {
   "cell_type": "code",
   "execution_count": 56,
   "metadata": {},
   "outputs": [
    {
     "name": "stdout",
     "output_type": "stream",
     "text": [
      "[[26  0  0  0  0  0  0  0]\n",
      " [ 2 28  0  0  0  2  0  0]\n",
      " [ 0  0 33  0  0  0  0  0]\n",
      " [ 0  0  1 27  0  0  0  0]\n",
      " [ 2  0  0  0 22  0  0  1]\n",
      " [ 0  0  0  0  0 22  0  0]\n",
      " [ 0  0  0  0  0  0 24  0]\n",
      " [ 0  0  0  0  0  0  0 26]]\n",
      "[[34  0  0  0  0  0  0  0]\n",
      " [ 2 20  0  0  0  0  0  0]\n",
      " [ 0  0 38  0  0  0  0  0]\n",
      " [ 0  0  0 30  0  0  0  0]\n",
      " [ 0  0  0  0 26  0  0  0]\n",
      " [ 0  0  0  0  0 19  0  0]\n",
      " [ 0  0  0  0  0  0 26  0]\n",
      " [ 0  0  0  0  0  0  0 21]]\n",
      "[[29  0  0  0  0  0  0  0]\n",
      " [ 1 27  0  0  0  0  0  0]\n",
      " [ 0  0 27  0  0  0  0  0]\n",
      " [ 0  0  0 25  0  0  0  0]\n",
      " [ 1  0  0  0 35  0  0  0]\n",
      " [ 2  0  0  0  0 19  0  0]\n",
      " [ 0  0  0  0  0  0 28  0]\n",
      " [ 0  0  0  0  0  0  0 22]]\n",
      "[[30  0  0  0  0  0  0  0]\n",
      " [ 0 26  0  0  0  0  0  0]\n",
      " [ 0  0 28  0  0  0  0  0]\n",
      " [ 0  0  0 24  0  0  0  0]\n",
      " [ 0  0  0  0 21  0  0  0]\n",
      " [ 0  0  0  0  0 23  0  0]\n",
      " [ 0  0  0  0  0  0 31  0]\n",
      " [ 0  0  0  0  0  0  0 33]]\n",
      "[[31  0  0  0  0  0  0  0]\n",
      " [ 1 26  0  0  0  0  0  0]\n",
      " [ 0  0 24  0  0  0  0  0]\n",
      " [ 0  0  0 28  0  0  0  0]\n",
      " [ 0  0  0  0 27  0  0  0]\n",
      " [ 0  0  0  0  0 20  0  0]\n",
      " [ 0  0  0  0  0  0 26  0]\n",
      " [ 0  0  0  0  0  0  0 33]]\n"
     ]
    }
   ],
   "source": [
    "for train_index, test_index in kf.split(data):\n",
    "    X_train, X_test, y_train, y_test = data.iloc[train_index], data.iloc[test_index], target.iloc[train_index], target.iloc[test_index]\n",
    "    scores_KNN.append(get_score(modelKNN, X_train, X_test, y_train, y_test))"
   ]
  },
  {
   "cell_type": "code",
   "execution_count": 57,
   "metadata": {},
   "outputs": [
    {
     "data": {
      "text/plain": [
       "0.986111111111111"
      ]
     },
     "execution_count": 57,
     "metadata": {},
     "output_type": "execute_result"
    }
   ],
   "source": [
    "np.mean(scores_KNN)"
   ]
  },
  {
   "cell_type": "code",
   "execution_count": 58,
   "metadata": {},
   "outputs": [],
   "source": [
    "scores_KNN = []"
   ]
  },
  {
   "cell_type": "code",
   "execution_count": 59,
   "metadata": {},
   "outputs": [],
   "source": [
    "modelKNN = KNeighborsClassifier(n_neighbors=2, weights = 'distance', p = 2, metric = 'minkowski')"
   ]
  },
  {
   "cell_type": "code",
   "execution_count": 60,
   "metadata": {},
   "outputs": [
    {
     "name": "stdout",
     "output_type": "stream",
     "text": [
      "[[33  0  0  0  0  0  0  0]\n",
      " [ 0 30  0  0  0  0  0  0]\n",
      " [ 0  0 30  0  0  0  0  0]\n",
      " [ 0  0  0 25  0  0  0  0]\n",
      " [ 0  0  0  0 29  0  0  0]\n",
      " [ 0  0  0  0  0 19  0  0]\n",
      " [ 0  0  0  0  0  0 29  0]\n",
      " [ 0  0  0  0  0  0  0 21]]\n",
      "[[34  0  0  0  1  0  0  0]\n",
      " [ 1 27  0  0  0  0  0  0]\n",
      " [ 0  0 34  0  0  0  0  0]\n",
      " [ 0  0  0 22  0  0  0  0]\n",
      " [ 0  0  0  0 25  0  0  0]\n",
      " [ 0  0  0  0  0 25  0  0]\n",
      " [ 0  0  0  0  0  0 25  0]\n",
      " [ 0  0  0  0  0  0  0 22]]\n",
      "[[25  0  0  0  0  0  0  0]\n",
      " [ 1 26  0  0  0  0  0  0]\n",
      " [ 0  0 24  0  0  0  0  0]\n",
      " [ 0  0  0 31  0  0  0  0]\n",
      " [ 0  0  0  0 33  0  0  0]\n",
      " [ 0  0  0  0  0 12  0  0]\n",
      " [ 0  0  0  0  0  0 26  0]\n",
      " [ 0  0  0  0  0  0  0 38]]\n",
      "[[26  0  0  0  0  0  0  0]\n",
      " [ 0 23  0  0  0  0  0  0]\n",
      " [ 0  0 38  0  0  0  0  0]\n",
      " [ 0  0  0 29  0  0  0  0]\n",
      " [ 0  0  0  0 25  0  0  0]\n",
      " [ 0  0  0  0  0 21  0  0]\n",
      " [ 0  0  0  0  0  0 25  0]\n",
      " [ 0  0  0  0  0  0  0 29]]\n",
      "[[31  0  0  0  0  0  0  0]\n",
      " [ 0 25  0  0  0  2  0  0]\n",
      " [ 0  0 24  0  0  0  0  0]\n",
      " [ 0  0  0 28  0  0  0  0]\n",
      " [ 0  0  0  0 23  0  0  0]\n",
      " [ 0  0  0  0  0 28  0  0]\n",
      " [ 0  0  0  0  0  0 30  0]\n",
      " [ 0  0  0  0  0  0  0 25]]\n"
     ]
    }
   ],
   "source": [
    "for train_index, test_index in kf.split(data):\n",
    "    X_train, X_test, y_train, y_test = data.iloc[train_index], data.iloc[test_index], target.iloc[train_index], target.iloc[test_index]\n",
    "    scores_KNN.append(get_score(modelKNN, X_train, X_test, y_train, y_test))"
   ]
  },
  {
   "cell_type": "code",
   "execution_count": 61,
   "metadata": {},
   "outputs": [
    {
     "data": {
      "text/plain": [
       "0.9953703703703705"
      ]
     },
     "execution_count": 61,
     "metadata": {},
     "output_type": "execute_result"
    }
   ],
   "source": [
    "np.mean(scores_KNN)"
   ]
  },
  {
   "cell_type": "code",
   "execution_count": 62,
   "metadata": {},
   "outputs": [],
   "source": [
    "# Doing paarmeter tuning for DT\n",
    "scores_DT = []"
   ]
  },
  {
   "cell_type": "code",
   "execution_count": 63,
   "metadata": {},
   "outputs": [],
   "source": [
    "modelDT = DecisionTreeClassifier(criterion = 'gini', max_depth = 5, max_features = 2, max_leaf_nodes = None, \n",
    "                                 min_samples_leaf = 1, min_samples_split = 2)"
   ]
  },
  {
   "cell_type": "code",
   "execution_count": 64,
   "metadata": {},
   "outputs": [
    {
     "name": "stdout",
     "output_type": "stream",
     "text": [
      "[[14  2  2  0  1  0  0  3]\n",
      " [ 7 10  3  1  2  1  0  5]\n",
      " [ 3  0 12  3  1  0  8  1]\n",
      " [ 5  0  7  7  0  0  6  0]\n",
      " [ 6  3  0  4 16  0  0  0]\n",
      " [ 5  8  0  0  5  3  0  6]\n",
      " [ 2  0  7  0  1  0 17  0]\n",
      " [ 3  1  0  3  0  0  8 14]]\n",
      "[[ 8  2  0  2 11  2  0  7]\n",
      " [ 1  3  0  1 14  0  1 11]\n",
      " [ 0  2 24  3  0  0  2  1]\n",
      " [ 1  0  4 11  0  1  4  5]\n",
      " [ 0  0  0  0 21  1  0  5]\n",
      " [ 6  0  0  0 11  2  0  2]\n",
      " [ 0  1  0  3  0  2 15  4]\n",
      " [ 0  0  0  1  0  2  1 18]]\n",
      "[[14  8  5  0  4  0  1  1]\n",
      " [ 2 13  2  0  6  0  0  0]\n",
      " [ 2  2 16  0  1  0  3  5]\n",
      " [ 5  0 14  0  0  0 13  4]\n",
      " [ 1  2  1  0 19  3  0  0]\n",
      " [ 3  7  0  0  6  7  0  0]\n",
      " [ 0  1  5  0  0  0 14  1]\n",
      " [ 1  4  2  0  1  0  7 10]]\n",
      "[[23  3  3  0  0  0  2  3]\n",
      " [ 1 13  4  0  0  1  1  5]\n",
      " [ 1  1 14  1  0  0 10  2]\n",
      " [ 2  0  0 16  0  0  4  0]\n",
      " [ 8  4  2  0  7  5  2  0]\n",
      " [ 5  1  0  0  5  3  0  4]\n",
      " [ 2  0 16  0  0  0  9  4]\n",
      " [ 5  1  0  0  0  0  2 21]]\n",
      "[[14  5  4  0  2  2  2  0]\n",
      " [ 4 16  1  3  1  2  0  0]\n",
      " [ 0  0 21 10  0  0  1  0]\n",
      " [ 0  0  8 12  0  0  5  1]\n",
      " [ 2  7  0  1 12  3  0  0]\n",
      " [ 1  3  0  0  1 10  1  0]\n",
      " [ 3  0  5  5  1  0 17  0]\n",
      " [10  2  2  2  2  2  8  2]]\n"
     ]
    }
   ],
   "source": [
    "for train_index, test_index in kf.split(data):\n",
    "    X_train, X_test, y_train, y_test = data.iloc[train_index], data.iloc[test_index], target.iloc[train_index], target.iloc[test_index]\n",
    "    scores_DT.append(get_score(modelDT, X_train, X_test, y_train, y_test))"
   ]
  },
  {
   "cell_type": "code",
   "execution_count": 65,
   "metadata": {},
   "outputs": [
    {
     "data": {
      "text/plain": [
       "0.46111111111111114"
      ]
     },
     "execution_count": 65,
     "metadata": {},
     "output_type": "execute_result"
    }
   ],
   "source": [
    "np.mean(scores_DT)"
   ]
  },
  {
   "cell_type": "code",
   "execution_count": 66,
   "metadata": {},
   "outputs": [],
   "source": [
    "scores_DT = []"
   ]
  },
  {
   "cell_type": "code",
   "execution_count": 67,
   "metadata": {},
   "outputs": [],
   "source": [
    "modelDT = DecisionTreeClassifier(criterion = 'gini', max_depth = 4, max_features = 2, max_leaf_nodes = None, \n",
    "                                 min_samples_leaf = 1, min_samples_split = 2)"
   ]
  },
  {
   "cell_type": "code",
   "execution_count": 68,
   "metadata": {},
   "outputs": [
    {
     "name": "stdout",
     "output_type": "stream",
     "text": [
      "[[ 9  5  0  0  9  2  0  1]\n",
      " [ 2 15  0  1  7  0  0  0]\n",
      " [ 0  0 21  1  0  0  6  4]\n",
      " [ 0  0  9  4  1  0 21  0]\n",
      " [ 0  0  0  0 19  0  0  1]\n",
      " [ 3  2  0  0 11  0  0  0]\n",
      " [ 0  0  6  0  2  0 18  1]\n",
      " [ 1  0  0  0  1  0 15 18]]\n",
      "[[10  0 10  0  0  5  0  2]\n",
      " [12  7  8  0  3  2  0  5]\n",
      " [ 2  0 20  5  0  0  0  3]\n",
      " [ 1  0  2 18  0  0  5  4]\n",
      " [ 2  1  8  3  5  2  0  0]\n",
      " [ 0  2  8  1  5  5  0  5]\n",
      " [ 3  0 18  1  0  0  3  0]\n",
      " [ 1  0  0  0  0  1  0 18]]\n",
      "[[11  4  6  0  6  0  2  7]\n",
      " [ 3  7  1  0  9  1  1  5]\n",
      " [ 0  0 16  0  0  0  7  0]\n",
      " [ 0  0 18  1  0  0  4  1]\n",
      " [ 0  4  0  0 28  3  0  1]\n",
      " [ 2  6  0  0  5  7  2  3]\n",
      " [ 0  0  9  0  0  0  9  4]\n",
      " [ 0  0  6  0  2  0 11  4]]\n",
      "[[16  1  0  1 14  0  0  0]\n",
      " [ 8  8  0  0  6  0  0  1]\n",
      " [ 0  0 20  7  1  0  5  0]\n",
      " [ 1  0  5 14  2  0  1  0]\n",
      " [ 6  6  1  0 18  0  0  0]\n",
      " [ 3  5  1  0  5  0  0  0]\n",
      " [ 0  0  3  0  0  0 24  4]\n",
      " [ 0  0  1  2  9  0 10  7]]\n",
      "[[18  9  0  2  0  0  0  0]\n",
      " [ 2 12  0  6  3  0  0  0]\n",
      " [ 4  1 14  8  3  0  2  0]\n",
      " [ 6  1  1 10  4  0  1  0]\n",
      " [ 5  6  2  0 14  0  0  0]\n",
      " [ 4  5  0  0 11  2  0  2]\n",
      " [ 4  0  4  6  3  0 13  0]\n",
      " [ 9  3  6  4  1  0  1  4]]\n"
     ]
    }
   ],
   "source": [
    "for train_index, test_index in kf.split(data):\n",
    "    X_train, X_test, y_train, y_test = data.iloc[train_index], data.iloc[test_index], target.iloc[train_index], target.iloc[test_index]\n",
    "    scores_DT.append(get_score(modelDT, X_train, X_test, y_train, y_test))"
   ]
  },
  {
   "cell_type": "code",
   "execution_count": 69,
   "metadata": {},
   "outputs": [
    {
     "data": {
      "text/plain": [
       "0.43240740740740735"
      ]
     },
     "execution_count": 69,
     "metadata": {},
     "output_type": "execute_result"
    }
   ],
   "source": [
    "np.mean(scores_DT)"
   ]
  },
  {
   "cell_type": "code",
   "execution_count": 70,
   "metadata": {},
   "outputs": [],
   "source": [
    "scores_DT = []"
   ]
  },
  {
   "cell_type": "code",
   "execution_count": 71,
   "metadata": {},
   "outputs": [],
   "source": [
    "modelDT = DecisionTreeClassifier(criterion = 'gini', max_depth = 6, max_features = 2, max_leaf_nodes = None, \n",
    "                                 min_samples_leaf = 1, min_samples_split = 2)"
   ]
  },
  {
   "cell_type": "code",
   "execution_count": 72,
   "metadata": {},
   "outputs": [
    {
     "name": "stdout",
     "output_type": "stream",
     "text": [
      "[[22  0  1  0  2  0  0  2]\n",
      " [14 10  0  0  1  3  0  3]\n",
      " [ 2  0 30  8  0  0  0  2]\n",
      " [ 1  0  9  7  1  0  3  2]\n",
      " [10  0  2  1 12  4  0  4]\n",
      " [ 2  2  0  0  6  7  1  2]\n",
      " [ 0  0  6  1  0  0  9  0]\n",
      " [ 2  1  0  0  1  0  0 20]]\n",
      "[[23  0  3  0  2  0  1  4]\n",
      " [ 8 11  0  0  0  1  1  0]\n",
      " [ 0  5 11  2  2  0  9  1]\n",
      " [ 1  2 13 10  0  0  9  2]\n",
      " [ 3  2  1  1 22  1  2  1]\n",
      " [ 3  1  2  0  4  2  2  1]\n",
      " [ 0  2  3  0  1  0 18  0]\n",
      " [ 2  0  3  0  1  0  5 12]]\n",
      "[[19  1  0  0  2  4  0  0]\n",
      " [ 8  7  0  0  1  4  0  0]\n",
      " [ 0  0 27  2  0  0  1  3]\n",
      " [ 3  0  4 16  0  1  0  2]\n",
      " [ 3  1  0  0 13  4  0  1]\n",
      " [ 1  1  0  0  0 18  0  1]\n",
      " [ 0  1 16  3  0  0 13  2]\n",
      " [ 2  1  2  4  2  0  3 19]]\n",
      "[[16  3  2  0  4  4  0  1]\n",
      " [10 11  1  1  3  0  1  3]\n",
      " [ 3  0 14  4  0  0  2  1]\n",
      " [ 0  0  7 18  0  0  3  1]\n",
      " [ 4  1  0  0 13  3  0  0]\n",
      " [ 9  6  0  0  0 10  0  1]\n",
      " [ 1  2  2  3  0  1 23  0]\n",
      " [ 0  1  2  6  0  1  4 10]]\n",
      "[[17 12  0  0  2  3  0  0]\n",
      " [ 3 24  2  2  0  1  0  1]\n",
      " [ 0  0  9  9  0  0  3  0]\n",
      " [ 0  0  1 18  0  0  0  1]\n",
      " [ 0  8  0  1 15  1  0  1]\n",
      " [ 1  6  0  3  1 12  0  0]\n",
      " [ 1  0  1  9  0  0 17  0]\n",
      " [ 5  1  3  4  0  2  5 11]]\n"
     ]
    }
   ],
   "source": [
    "for train_index, test_index in kf.split(data):\n",
    "    X_train, X_test, y_train, y_test = data.iloc[train_index], data.iloc[test_index], target.iloc[train_index], target.iloc[test_index]\n",
    "    scores_DT.append(get_score(modelDT, X_train, X_test, y_train, y_test))"
   ]
  },
  {
   "cell_type": "code",
   "execution_count": 73,
   "metadata": {},
   "outputs": [
    {
     "data": {
      "text/plain": [
       "0.5518518518518519"
      ]
     },
     "execution_count": 73,
     "metadata": {},
     "output_type": "execute_result"
    }
   ],
   "source": [
    "np.mean(scores_DT)"
   ]
  },
  {
   "cell_type": "code",
   "execution_count": 74,
   "metadata": {},
   "outputs": [],
   "source": [
    "scores_DT = []"
   ]
  },
  {
   "cell_type": "code",
   "execution_count": 75,
   "metadata": {},
   "outputs": [],
   "source": [
    "modelDT = DecisionTreeClassifier(criterion = 'entropy', max_depth = 5, max_features = 2, max_leaf_nodes = None, \n",
    "                                 min_samples_leaf = 1, min_samples_split = 2)"
   ]
  },
  {
   "cell_type": "code",
   "execution_count": 76,
   "metadata": {},
   "outputs": [
    {
     "name": "stdout",
     "output_type": "stream",
     "text": [
      "[[12  5  1  5  1  2  4  1]\n",
      " [ 5 11  0  1  0  2  1  1]\n",
      " [ 0  2 16  4  0  0  4  0]\n",
      " [ 0  0  2 23  0  1  1  5]\n",
      " [ 4  8  0  0  7  7  0  0]\n",
      " [ 0  0  0  1  6  9  3  1]\n",
      " [ 4  2  1  7  0  0 13  2]\n",
      " [ 2  1  2  1  0  3  5 17]]\n",
      "[[22  3  0  2  1  1  0  0]\n",
      " [15  5  0  1  0  5  0  1]\n",
      " [ 2  0 22  4  0  0  7  1]\n",
      " [ 3  0  1 11  0  0  8  1]\n",
      " [ 5  9  1  1 12  5  0  1]\n",
      " [ 4  3  0  0  1  5  2  0]\n",
      " [ 0  0  1  6  0  1 17  0]\n",
      " [ 2  0  7  1  2  5  0  9]]\n",
      "[[13  3  2  4  1  2  2  2]\n",
      " [ 1  5  0  2  4  1  1  6]\n",
      " [ 1  1 18  3  1  0  4  4]\n",
      " [ 4  1  8  9  3  0  2  0]\n",
      " [ 0  1  0  0 18  7  1  1]\n",
      " [ 2  2  1  1  3 13  0  1]\n",
      " [ 2  0 13  0  2  0 15  0]\n",
      " [ 3  1  0  0  0  4  0 17]]\n",
      "[[22  1  1  0  3  3  1  0]\n",
      " [15 15  0  0  4  0  0  0]\n",
      " [ 0  0 28  2  0  0  0  0]\n",
      " [ 1  0  0 20  0  0  4  2]\n",
      " [ 5  3  1  0 10  0  0  0]\n",
      " [ 7  8  2  0  1  8  0  1]\n",
      " [ 0  0 10  2  0  0 12  0]\n",
      " [ 0  3  5  2  0  0  4 10]]\n",
      "[[12  5  1  2  2  3  1  4]\n",
      " [ 2 22  0  0  2  4  1  2]\n",
      " [ 1  1 11  7  0  0  1  5]\n",
      " [ 0  1  0 22  0  0  0  2]\n",
      " [ 4  7  0  0  9  7  0  1]\n",
      " [ 0  4  3  0  1 11  0  1]\n",
      " [ 0  0  1 11  0  0  5  8]\n",
      " [ 0  0  2  8  3  1  5 10]]\n"
     ]
    }
   ],
   "source": [
    "for train_index, test_index in kf.split(data):\n",
    "    X_train, X_test, y_train, y_test = data.iloc[train_index], data.iloc[test_index], target.iloc[train_index], target.iloc[test_index]\n",
    "    scores_DT.append(get_score(modelDT, X_train, X_test, y_train, y_test))"
   ]
  },
  {
   "cell_type": "code",
   "execution_count": 77,
   "metadata": {},
   "outputs": [
    {
     "data": {
      "text/plain": [
       "0.5055555555555555"
      ]
     },
     "execution_count": 77,
     "metadata": {},
     "output_type": "execute_result"
    }
   ],
   "source": [
    "np.mean(scores_DT)"
   ]
  },
  {
   "cell_type": "code",
   "execution_count": 78,
   "metadata": {},
   "outputs": [],
   "source": [
    "scores_DT = []"
   ]
  },
  {
   "cell_type": "code",
   "execution_count": 79,
   "metadata": {},
   "outputs": [],
   "source": [
    "modelDT = DecisionTreeClassifier(criterion = 'entropy', max_depth = 6, max_features = 2, max_leaf_nodes = None, \n",
    "                                 min_samples_leaf = 1, min_samples_split = 2)"
   ]
  },
  {
   "cell_type": "code",
   "execution_count": 80,
   "metadata": {},
   "outputs": [
    {
     "name": "stdout",
     "output_type": "stream",
     "text": [
      "[[20  0  0  0  1  2  0  2]\n",
      " [ 7 14  1  0  4  2  0  5]\n",
      " [ 0  1 24  4  0  1  2  1]\n",
      " [ 0  0  9 13  0  0  2  0]\n",
      " [ 6  4  0  0  9  1  1  1]\n",
      " [ 3  1  0  0  8  2  0  3]\n",
      " [ 1  1 10  5  0  0 18  2]\n",
      " [ 0  1  1  1  0  0  4 18]]\n",
      "[[23  0  1  2  2  2  2  1]\n",
      " [ 7 16  0  0  1  3  0  0]\n",
      " [ 0  1 18  5  0  0 11  0]\n",
      " [ 1  1  4 21  1  1  2  0]\n",
      " [ 9  4  0  1 10  1  0  1]\n",
      " [ 1  0  0  1  1  7  0  0]\n",
      " [ 0  0  1  2  0  2 17  1]\n",
      " [ 5  0  1  3  1  2  5 14]]\n",
      "[[18  1  0  0  6  1  0  3]\n",
      " [ 6 10  0  0  4  3  0  2]\n",
      " [ 1  0 22  2  0  0  3  1]\n",
      " [ 1  2  4 18  0  0  2  3]\n",
      " [ 2  2  0  0 16  7  0  2]\n",
      " [ 0  1  0  0  3 15  0  2]\n",
      " [ 0  0 12  0  1  0  8  2]\n",
      " [ 0  4  5  9  3  0  0  9]]\n",
      "[[18  3  0  0  2  6  0  0]\n",
      " [ 1 17  1  0  1  7  0  0]\n",
      " [ 1  0 15  5  0  0  2  0]\n",
      " [ 3  3  1 15  0  0  3  1]\n",
      " [ 5  8  0  0 19  1  0  0]\n",
      " [ 6  0  1  0 11  9  0  0]\n",
      " [ 0  0  0  4  1  0 15  5]\n",
      " [ 0  1  5  1  0  0  0 19]]\n",
      "[[12 11  0  1  6  1  0  3]\n",
      " [ 1 15  0  0  1  0  1  5]\n",
      " [ 3  0 14  4  0  0  7  2]\n",
      " [ 1  0  3 13  0  0  4  3]\n",
      " [ 0  4  0  0 19  1  1  0]\n",
      " [ 4  7  4  0  5  5  4  1]\n",
      " [ 0  2  4  3  0  0 11  7]\n",
      " [ 2  1  2  2  3  2  3  8]]\n"
     ]
    }
   ],
   "source": [
    "for train_index, test_index in kf.split(data):\n",
    "    X_train, X_test, y_train, y_test = data.iloc[train_index], data.iloc[test_index], target.iloc[train_index], target.iloc[test_index]\n",
    "    scores_DT.append(get_score(modelDT, X_train, X_test, y_train, y_test))"
   ]
  },
  {
   "cell_type": "code",
   "execution_count": 81,
   "metadata": {},
   "outputs": [
    {
     "data": {
      "text/plain": [
       "0.5407407407407407"
      ]
     },
     "execution_count": 81,
     "metadata": {},
     "output_type": "execute_result"
    }
   ],
   "source": [
    "np.mean(scores_DT)"
   ]
  },
  {
   "cell_type": "code",
   "execution_count": 82,
   "metadata": {},
   "outputs": [],
   "source": [
    "scores_DT = []"
   ]
  },
  {
   "cell_type": "code",
   "execution_count": 83,
   "metadata": {},
   "outputs": [],
   "source": [
    "modelDT = DecisionTreeClassifier(criterion = 'entropy', max_depth = 6, max_features = None, max_leaf_nodes = None, \n",
    "                                 min_samples_leaf = 1, min_samples_split = 2)"
   ]
  },
  {
   "cell_type": "code",
   "execution_count": 84,
   "metadata": {},
   "outputs": [
    {
     "name": "stdout",
     "output_type": "stream",
     "text": [
      "[[24  2  1  0  2  1  0  0]\n",
      " [ 6 32  2  0  1  0  0  1]\n",
      " [ 0  0 25  0  0  0  0  0]\n",
      " [ 0  0  0 20  0  0  1  0]\n",
      " [ 4  4  1  0 23  0  0  0]\n",
      " [ 5  0  0  0  5  7  0  0]\n",
      " [ 0  0  1  0  0  0 20  1]\n",
      " [ 0  0  0  0  0  0  0 27]]\n",
      "[[30  4  0  0  3  0  0  0]\n",
      " [ 2 18  0  0  0  0  1  0]\n",
      " [ 0  0 22  3  0  0  3  0]\n",
      " [ 0  0  2 25  0  0  0  0]\n",
      " [ 2  3  0  0 16  2  0  0]\n",
      " [ 1  1  0  0  2 23  0  0]\n",
      " [ 0  0  2  1  0  0 20  0]\n",
      " [ 0  0  0  0  0  0  1 29]]\n",
      "[[20  5  0  0  4  4  0  0]\n",
      " [ 5 11  0  0  5  0  0  0]\n",
      " [ 0  1 32  0  0  0  1  2]\n",
      " [ 0  0  0 27  0  0  1  4]\n",
      " [ 0  3  0  0 16  3  0  0]\n",
      " [ 0  1  0  0  6 11  0  0]\n",
      " [ 0  0  1  4  0  0 24  0]\n",
      " [ 0  1  0  0  0  0  1 23]]\n",
      "[[17  0  0  0  7  0  0  0]\n",
      " [ 3 28  0  0  2  0  0  0]\n",
      " [ 0  1 17  2  0  0  3  0]\n",
      " [ 0  0  1 21  0  0  0  0]\n",
      " [ 3  0  0  0 19  2  0  0]\n",
      " [ 0  2  0  0  3 22  0  0]\n",
      " [ 0  0  1  1  0  0 35  0]\n",
      " [ 0  0  1  1  0  0  0 24]]\n",
      "[[15  6  0  0  4  1  0  0]\n",
      " [ 0 14  0  0  3  1  0  0]\n",
      " [ 0  1 30  3  0  0  3  1]\n",
      " [ 0  0  1 32  0  0  0  0]\n",
      " [ 2  4  0  0 28  0  0  0]\n",
      " [ 0  0  0  0  1 15  0  0]\n",
      " [ 0  0  3  3  0  0 18  0]\n",
      " [ 0  0  1  1  0  0  1 24]]\n"
     ]
    }
   ],
   "source": [
    "for train_index, test_index in kf.split(data):\n",
    "    X_train, X_test, y_train, y_test = data.iloc[train_index], data.iloc[test_index], target.iloc[train_index], target.iloc[test_index]\n",
    "    scores_DT.append(get_score(modelDT, X_train, X_test, y_train, y_test))"
   ]
  },
  {
   "cell_type": "code",
   "execution_count": 85,
   "metadata": {},
   "outputs": [
    {
     "data": {
      "text/plain": [
       "0.8185185185185185"
      ]
     },
     "execution_count": 85,
     "metadata": {},
     "output_type": "execute_result"
    }
   ],
   "source": [
    "np.mean(scores_DT)"
   ]
  },
  {
   "cell_type": "code",
   "execution_count": 86,
   "metadata": {},
   "outputs": [],
   "source": [
    "scores_DT = []"
   ]
  },
  {
   "cell_type": "code",
   "execution_count": 87,
   "metadata": {},
   "outputs": [],
   "source": [
    "modelDT = DecisionTreeClassifier(criterion = 'entropy', max_depth = None, max_features = None, max_leaf_nodes = None, \n",
    "                                 min_samples_leaf = 1, min_samples_split = 2)"
   ]
  },
  {
   "cell_type": "code",
   "execution_count": 88,
   "metadata": {},
   "outputs": [
    {
     "name": "stdout",
     "output_type": "stream",
     "text": [
      "[[31  2  0  0  1  2  0  0]\n",
      " [ 1 20  0  0  2  1  0  0]\n",
      " [ 0  0 19  0  0  0  5  0]\n",
      " [ 0  0  0 27  0  0  5  1]\n",
      " [ 3  4  1  0 23  1  0  0]\n",
      " [ 3  0  0  0  3 15  0  0]\n",
      " [ 0  0  4  0  0  0 17  1]\n",
      " [ 1  0  0  1  0  0  1 21]]\n",
      "[[33  3  0  0  3  0  0  0]\n",
      " [ 2 20  0  0  1  1  0  1]\n",
      " [ 3  0 25  0  0  0  1  1]\n",
      " [ 1  0  1 22  0  0  1  0]\n",
      " [ 1  0  0  0 19  0  0  0]\n",
      " [ 3  0  0  0  2 18  0  0]\n",
      " [ 0  0  1  1  0  0 25  0]\n",
      " [ 0  0  0  0  0  1  0 26]]\n",
      "[[21  3  0  0  2  1  0  0]\n",
      " [ 6 20  0  0  2  1  0  1]\n",
      " [ 0  0 32  0  0  0  1  0]\n",
      " [ 0  0  1 25  0  0  0  0]\n",
      " [ 2  1  0  0 27  1  0  0]\n",
      " [ 1  0  0  0  2 18  0  0]\n",
      " [ 0  0  1  1  0  0 17  1]\n",
      " [ 0  0  0  0  0  0  0 28]]\n",
      "[[23  3  0  0  1  0  0  0]\n",
      " [ 3 27  0  0  4  3  0  0]\n",
      " [ 0  0 25  0  1  0  1  1]\n",
      " [ 0  0  1 25  0  0  0  0]\n",
      " [ 0  0  0  0 18  1  0  0]\n",
      " [ 1  0  0  0  0 20  0  0]\n",
      " [ 0  0  2  2  0  0 28  0]\n",
      " [ 0  0  0  0  1  0  0 25]]\n",
      "[[16  2  0  0  3  0  0  0]\n",
      " [10  8  0  0  0  1  0  0]\n",
      " [ 2  0 30  2  0  0  1  0]\n",
      " [ 0  0  2 23  0  0  0  0]\n",
      " [ 2  3  0  0 26  2  0  0]\n",
      " [ 0  0  0  0  0 19  0  0]\n",
      " [ 0  0  0  0  0  0 34  0]\n",
      " [ 0  0  3  0  0  0  1 26]]\n"
     ]
    }
   ],
   "source": [
    "for train_index, test_index in kf.split(data):\n",
    "    X_train, X_test, y_train, y_test = data.iloc[train_index], data.iloc[test_index], target.iloc[train_index], target.iloc[test_index]\n",
    "    scores_DT.append(get_score(modelDT, X_train, X_test, y_train, y_test))"
   ]
  },
  {
   "cell_type": "code",
   "execution_count": 89,
   "metadata": {},
   "outputs": [
    {
     "data": {
      "text/plain": [
       "0.8537037037037036"
      ]
     },
     "execution_count": 89,
     "metadata": {},
     "output_type": "execute_result"
    }
   ],
   "source": [
    "np.mean(scores_DT)"
   ]
  },
  {
   "cell_type": "code",
   "execution_count": 90,
   "metadata": {},
   "outputs": [],
   "source": [
    "# Hill climibing for feature selection for KNN\n",
    "new_Ind = []\n",
    "cur_MaxScore = 0.0\n",
    "col_num = 77\n",
    "col_Ind_Random = shuffle(range(0,col_num), random_state=1)"
   ]
  },
  {
   "cell_type": "code",
   "execution_count": 91,
   "metadata": {},
   "outputs": [
    {
     "name": "stdout",
     "output_type": "stream",
     "text": [
      "Score with 1 selectedfeatures: 0.14074074074074075\n",
      "Score with 2 selectedfeatures: 0.2111111111111111\n",
      "Score with 3 selectedfeatures: 0.3148148148148148\n",
      "Score with 4 selectedfeatures: 0.5370370370370371\n",
      "Score with 5 selectedfeatures: 0.6592592592592592\n",
      "Score with 6 selectedfeatures: 0.6703703703703704\n",
      "Score with 7 selectedfeatures: 0.7407407407407407\n",
      "Score with 8 selectedfeatures: 0.7555555555555555\n",
      "Score with 9 selectedfeatures: 0.7888888888888889\n",
      "Score with 10 selectedfeatures: 0.8\n",
      "Score with 11 selectedfeatures: 0.8407407407407408\n",
      "Score with 12 selectedfeatures: 0.8962962962962963\n",
      "Score with 13 selectedfeatures: 0.9259259259259259\n",
      "Score with 14 selectedfeatures: 0.937037037037037\n",
      "Score with 15 selectedfeatures: 0.9703703703703703\n",
      "Score with 16 selectedfeatures: 0.9777777777777777\n",
      "Score with 17 selectedfeatures: 0.9814814814814815\n",
      "Score with 18 selectedfeatures: 0.9888888888888889\n",
      "Score with 19 selectedfeatures: 0.9925925925925926\n",
      "Score with 20 selectedfeatures: 0.9925925925925926\n",
      "Score with 21 selectedfeatures: 0.9925925925925926\n",
      "Score with 22 selectedfeatures: 0.9925925925925926\n",
      "Score with 23 selectedfeatures: 0.9925925925925926\n",
      "Score with 24 selectedfeatures: 0.9925925925925926\n",
      "Score with 25 selectedfeatures: 0.9925925925925926\n",
      "Score with 26 selectedfeatures: 0.9925925925925926\n",
      "Score with 27 selectedfeatures: 0.9925925925925926\n",
      "Score with 28 selectedfeatures: 0.9925925925925926\n",
      "Score with 29 selectedfeatures: 0.9925925925925926\n",
      "Score with 30 selectedfeatures: 0.9925925925925926\n",
      "Score with 31 selectedfeatures: 0.9925925925925926\n",
      "Score with 32 selectedfeatures: 0.9925925925925926\n",
      "Score with 33 selectedfeatures: 0.9925925925925926\n",
      "Score with 34 selectedfeatures: 0.9925925925925926\n",
      "Score with 35 selectedfeatures: 0.9925925925925926\n",
      "Score with 36 selectedfeatures: 0.9925925925925926\n",
      "Score with 37 selectedfeatures: 0.9925925925925926\n",
      "Score with 38 selectedfeatures: 0.9925925925925926\n",
      "Score with 39 selectedfeatures: 0.9925925925925926\n",
      "Score with 40 selectedfeatures: 0.9962962962962963\n",
      "Score with 41 selectedfeatures: 0.9962962962962963\n",
      "Score with 42 selectedfeatures: 0.9962962962962963\n",
      "Score with 43 selectedfeatures: 0.9962962962962963\n",
      "Score with 44 selectedfeatures: 0.9962962962962963\n",
      "Score with 45 selectedfeatures: 0.9962962962962963\n",
      "Score with 46 selectedfeatures: 0.9962962962962963\n",
      "Score with 47 selectedfeatures: 0.9962962962962963\n",
      "Score with 48 selectedfeatures: 0.9962962962962963\n",
      "Score with 49 selectedfeatures: 0.9962962962962963\n",
      "Score with 50 selectedfeatures: 0.9962962962962963\n",
      "Score with 51 selectedfeatures: 0.9962962962962963\n",
      "Score with 52 selectedfeatures: 0.9962962962962963\n",
      "Score with 53 selectedfeatures: 0.9962962962962963\n",
      "Score with 54 selectedfeatures: 0.9962962962962963\n",
      "Score with 55 selectedfeatures: 0.9962962962962963\n",
      "Score with 56 selectedfeatures: 0.9962962962962963\n",
      "Score with 57 selectedfeatures: 0.9962962962962963\n",
      "Score with 58 selectedfeatures: 0.9962962962962963\n",
      "Score with 59 selectedfeatures: 0.9962962962962963\n",
      "Score with 60 selectedfeatures: 0.9962962962962963\n",
      "Score with 61 selectedfeatures: 0.9962962962962963\n",
      "Score with 62 selectedfeatures: 0.9962962962962963\n",
      "Score with 63 selectedfeatures: 0.9962962962962963\n",
      "Score with 64 selectedfeatures: 0.9962962962962963\n",
      "Score with 65 selectedfeatures: 0.9962962962962963\n",
      "Score with 66 selectedfeatures: 0.9962962962962963\n",
      "Score with 67 selectedfeatures: 0.9962962962962963\n",
      "Score with 68 selectedfeatures: 0.9962962962962963\n",
      "Score with 69 selectedfeatures: 0.9962962962962963\n",
      "Score with 70 selectedfeatures: 0.9962962962962963\n",
      "Score with 71 selectedfeatures: 0.9962962962962963\n",
      "Score with 72 selectedfeatures: 0.9962962962962963\n",
      "Score with 73 selectedfeatures: 0.9962962962962963\n"
     ]
    }
   ],
   "source": [
    "for cur_f in range(0, col_num):\n",
    "    new_Ind.append(col_Ind_Random[cur_f])\n",
    "    newData = data.iloc[:, new_Ind]\n",
    "    X_train, X_test, y_train, y_test = train_test_split(newData,target, test_size=0.25, random_state=0)\n",
    "    modelKNN = KNeighborsClassifier(n_neighbors=2, weights = 'distance', p = 2, metric = 'minkowski')\n",
    "    fit = modelKNN.fit(X_train, y_train)\n",
    "    cur_Score = modelKNN.score(X_test, y_test)\n",
    "    if cur_Score < cur_MaxScore:\n",
    "        new_Ind.remove(col_Ind_Random[cur_f])\n",
    "    else:\n",
    "        cur_MaxScore = cur_Score\n",
    "        print(\"Score with \" + str(len(new_Ind)) + \" selectedfeatures: \" + str(cur_Score))"
   ]
  },
  {
   "cell_type": "code",
   "execution_count": 92,
   "metadata": {},
   "outputs": [
    {
     "name": "stdout",
     "output_type": "stream",
     "text": [
      "There are 73 features selected:\n"
     ]
    }
   ],
   "source": [
    "print(\"There are \" + str(len(new_Ind)) + \" features selected:\")"
   ]
  },
  {
   "cell_type": "code",
   "execution_count": 93,
   "metadata": {},
   "outputs": [
    {
     "name": "stdout",
     "output_type": "stream",
     "text": [
      "[31, 43, 26, 74, 58, 59, 61, 51, 36, 57, 10, 53, 34, 2, 46, 15, 45, 19, 76, 63, 62, 35, 38, 55, 33, 67, 40, 21, 68, 3, 44, 56, 39, 47, 24, 8, 17, 0, 69, 48]\n"
     ]
    }
   ],
   "source": [
    "print(new_Ind[:40])"
   ]
  },
  {
   "cell_type": "code",
   "execution_count": 94,
   "metadata": {},
   "outputs": [],
   "source": [
    "# Creating the new dataset with limited features for KNN\n",
    "newDataKNN = data.iloc[:, new_Ind[:40]]"
   ]
  },
  {
   "cell_type": "code",
   "execution_count": 95,
   "metadata": {},
   "outputs": [
    {
     "data": {
      "text/html": [
       "<div>\n",
       "<style scoped>\n",
       "    .dataframe tbody tr th:only-of-type {\n",
       "        vertical-align: middle;\n",
       "    }\n",
       "\n",
       "    .dataframe tbody tr th {\n",
       "        vertical-align: top;\n",
       "    }\n",
       "\n",
       "    .dataframe thead th {\n",
       "        text-align: right;\n",
       "    }\n",
       "</style>\n",
       "<table border=\"1\" class=\"dataframe\">\n",
       "  <thead>\n",
       "    <tr style=\"text-align: right;\">\n",
       "      <th></th>\n",
       "      <th>Bcatenin_N</th>\n",
       "      <th>NUMB_N</th>\n",
       "      <th>JNK_N</th>\n",
       "      <th>EGR1_N</th>\n",
       "      <th>GluR3_N</th>\n",
       "      <th>GluR4_N</th>\n",
       "      <th>P3525_N</th>\n",
       "      <th>RRP1_N</th>\n",
       "      <th>DSCR1_N</th>\n",
       "      <th>GFAP_N</th>\n",
       "      <th>...</th>\n",
       "      <th>P70S6_N</th>\n",
       "      <th>Tau_N</th>\n",
       "      <th>pNUMB_N</th>\n",
       "      <th>CDK5_N</th>\n",
       "      <th>ERK_N</th>\n",
       "      <th>pCREB_N</th>\n",
       "      <th>pPKCAB_N</th>\n",
       "      <th>DYRK1A_N</th>\n",
       "      <th>BCL2_N</th>\n",
       "      <th>S6_N</th>\n",
       "    </tr>\n",
       "  </thead>\n",
       "  <tbody>\n",
       "    <tr>\n",
       "      <th>0</th>\n",
       "      <td>0.747441</td>\n",
       "      <td>0.323059</td>\n",
       "      <td>0.640167</td>\n",
       "      <td>0.102890</td>\n",
       "      <td>0.531163</td>\n",
       "      <td>0.151103</td>\n",
       "      <td>0.169702</td>\n",
       "      <td>0.327870</td>\n",
       "      <td>0.553922</td>\n",
       "      <td>0.228825</td>\n",
       "      <td>...</td>\n",
       "      <td>0.373254</td>\n",
       "      <td>0.057168</td>\n",
       "      <td>0.469461</td>\n",
       "      <td>0.178458</td>\n",
       "      <td>0.627907</td>\n",
       "      <td>0.617322</td>\n",
       "      <td>0.698164</td>\n",
       "      <td>0.151122</td>\n",
       "      <td>0.286884</td>\n",
       "      <td>0.324085</td>\n",
       "    </tr>\n",
       "    <tr>\n",
       "      <th>1</th>\n",
       "      <td>0.701976</td>\n",
       "      <td>0.322736</td>\n",
       "      <td>0.614355</td>\n",
       "      <td>0.115874</td>\n",
       "      <td>0.576828</td>\n",
       "      <td>0.149555</td>\n",
       "      <td>0.212421</td>\n",
       "      <td>0.326426</td>\n",
       "      <td>0.512117</td>\n",
       "      <td>0.251911</td>\n",
       "      <td>...</td>\n",
       "      <td>0.376914</td>\n",
       "      <td>0.075103</td>\n",
       "      <td>0.410046</td>\n",
       "      <td>0.177452</td>\n",
       "      <td>0.578736</td>\n",
       "      <td>0.590173</td>\n",
       "      <td>0.591606</td>\n",
       "      <td>0.155750</td>\n",
       "      <td>0.286884</td>\n",
       "      <td>0.324004</td>\n",
       "    </tr>\n",
       "    <tr>\n",
       "      <th>2</th>\n",
       "      <td>0.710718</td>\n",
       "      <td>0.334325</td>\n",
       "      <td>0.625756</td>\n",
       "      <td>0.109050</td>\n",
       "      <td>0.607535</td>\n",
       "      <td>0.150434</td>\n",
       "      <td>0.202733</td>\n",
       "      <td>0.312439</td>\n",
       "      <td>0.510175</td>\n",
       "      <td>0.248192</td>\n",
       "      <td>...</td>\n",
       "      <td>0.383316</td>\n",
       "      <td>0.071718</td>\n",
       "      <td>0.400225</td>\n",
       "      <td>0.189744</td>\n",
       "      <td>0.599925</td>\n",
       "      <td>0.607102</td>\n",
       "      <td>0.581558</td>\n",
       "      <td>0.153459</td>\n",
       "      <td>0.286884</td>\n",
       "      <td>0.369553</td>\n",
       "    </tr>\n",
       "    <tr>\n",
       "      <th>3</th>\n",
       "      <td>0.536330</td>\n",
       "      <td>0.220414</td>\n",
       "      <td>0.625528</td>\n",
       "      <td>0.164241</td>\n",
       "      <td>0.562594</td>\n",
       "      <td>0.156083</td>\n",
       "      <td>0.184790</td>\n",
       "      <td>0.338264</td>\n",
       "      <td>0.514305</td>\n",
       "      <td>0.245676</td>\n",
       "      <td>...</td>\n",
       "      <td>0.311501</td>\n",
       "      <td>0.053257</td>\n",
       "      <td>0.406715</td>\n",
       "      <td>0.181101</td>\n",
       "      <td>0.452058</td>\n",
       "      <td>0.486945</td>\n",
       "      <td>0.627585</td>\n",
       "      <td>0.125169</td>\n",
       "      <td>0.286884</td>\n",
       "      <td>0.231762</td>\n",
       "    </tr>\n",
       "    <tr>\n",
       "      <th>4</th>\n",
       "      <td>0.519186</td>\n",
       "      <td>0.212521</td>\n",
       "      <td>0.599623</td>\n",
       "      <td>0.136298</td>\n",
       "      <td>0.656300</td>\n",
       "      <td>0.147044</td>\n",
       "      <td>0.187625</td>\n",
       "      <td>0.330219</td>\n",
       "      <td>0.501294</td>\n",
       "      <td>0.234762</td>\n",
       "      <td>...</td>\n",
       "      <td>0.317400</td>\n",
       "      <td>0.080162</td>\n",
       "      <td>0.372548</td>\n",
       "      <td>0.181805</td>\n",
       "      <td>0.433909</td>\n",
       "      <td>0.410194</td>\n",
       "      <td>0.579839</td>\n",
       "      <td>0.122146</td>\n",
       "      <td>0.286884</td>\n",
       "      <td>0.258720</td>\n",
       "    </tr>\n",
       "    <tr>\n",
       "      <th>...</th>\n",
       "      <td>...</td>\n",
       "      <td>...</td>\n",
       "      <td>...</td>\n",
       "      <td>...</td>\n",
       "      <td>...</td>\n",
       "      <td>...</td>\n",
       "      <td>...</td>\n",
       "      <td>...</td>\n",
       "      <td>...</td>\n",
       "      <td>...</td>\n",
       "      <td>...</td>\n",
       "      <td>...</td>\n",
       "      <td>...</td>\n",
       "      <td>...</td>\n",
       "      <td>...</td>\n",
       "      <td>...</td>\n",
       "      <td>...</td>\n",
       "      <td>...</td>\n",
       "      <td>...</td>\n",
       "      <td>...</td>\n",
       "      <td>...</td>\n",
       "    </tr>\n",
       "    <tr>\n",
       "      <th>1075</th>\n",
       "      <td>0.272354</td>\n",
       "      <td>0.460448</td>\n",
       "      <td>0.557374</td>\n",
       "      <td>0.388482</td>\n",
       "      <td>0.438759</td>\n",
       "      <td>0.133273</td>\n",
       "      <td>0.503280</td>\n",
       "      <td>0.383560</td>\n",
       "      <td>0.463546</td>\n",
       "      <td>0.382584</td>\n",
       "      <td>...</td>\n",
       "      <td>0.332212</td>\n",
       "      <td>0.621976</td>\n",
       "      <td>0.168184</td>\n",
       "      <td>0.216749</td>\n",
       "      <td>0.169947</td>\n",
       "      <td>0.488562</td>\n",
       "      <td>0.270345</td>\n",
       "      <td>0.046197</td>\n",
       "      <td>0.312002</td>\n",
       "      <td>0.757277</td>\n",
       "    </tr>\n",
       "    <tr>\n",
       "      <th>1076</th>\n",
       "      <td>0.294023</td>\n",
       "      <td>0.384408</td>\n",
       "      <td>0.584211</td>\n",
       "      <td>0.371843</td>\n",
       "      <td>0.426765</td>\n",
       "      <td>0.106808</td>\n",
       "      <td>0.578604</td>\n",
       "      <td>0.371298</td>\n",
       "      <td>0.477966</td>\n",
       "      <td>0.349009</td>\n",
       "      <td>...</td>\n",
       "      <td>0.313644</td>\n",
       "      <td>0.603789</td>\n",
       "      <td>0.202578</td>\n",
       "      <td>0.216441</td>\n",
       "      <td>0.183966</td>\n",
       "      <td>0.535204</td>\n",
       "      <td>0.318227</td>\n",
       "      <td>0.053509</td>\n",
       "      <td>0.312002</td>\n",
       "      <td>0.724808</td>\n",
       "    </tr>\n",
       "    <tr>\n",
       "      <th>1077</th>\n",
       "      <td>0.141150</td>\n",
       "      <td>0.396510</td>\n",
       "      <td>0.499992</td>\n",
       "      <td>0.484631</td>\n",
       "      <td>0.408434</td>\n",
       "      <td>0.117020</td>\n",
       "      <td>0.637656</td>\n",
       "      <td>0.390396</td>\n",
       "      <td>0.404748</td>\n",
       "      <td>0.399717</td>\n",
       "      <td>...</td>\n",
       "      <td>0.344935</td>\n",
       "      <td>0.591105</td>\n",
       "      <td>0.111440</td>\n",
       "      <td>0.207735</td>\n",
       "      <td>0.072165</td>\n",
       "      <td>0.374040</td>\n",
       "      <td>0.199387</td>\n",
       "      <td>0.035163</td>\n",
       "      <td>0.312002</td>\n",
       "      <td>0.779318</td>\n",
       "    </tr>\n",
       "    <tr>\n",
       "      <th>1078</th>\n",
       "      <td>0.171639</td>\n",
       "      <td>0.400692</td>\n",
       "      <td>0.562633</td>\n",
       "      <td>0.571336</td>\n",
       "      <td>0.423819</td>\n",
       "      <td>0.111943</td>\n",
       "      <td>0.612962</td>\n",
       "      <td>0.406447</td>\n",
       "      <td>0.427246</td>\n",
       "      <td>0.495272</td>\n",
       "      <td>...</td>\n",
       "      <td>0.329906</td>\n",
       "      <td>0.627730</td>\n",
       "      <td>0.163603</td>\n",
       "      <td>0.251261</td>\n",
       "      <td>0.105024</td>\n",
       "      <td>0.409605</td>\n",
       "      <td>0.219442</td>\n",
       "      <td>0.032018</td>\n",
       "      <td>0.312002</td>\n",
       "      <td>0.740074</td>\n",
       "    </tr>\n",
       "    <tr>\n",
       "      <th>1079</th>\n",
       "      <td>0.238791</td>\n",
       "      <td>0.356582</td>\n",
       "      <td>0.706238</td>\n",
       "      <td>0.577914</td>\n",
       "      <td>0.423343</td>\n",
       "      <td>0.105124</td>\n",
       "      <td>0.630897</td>\n",
       "      <td>0.379606</td>\n",
       "      <td>0.497303</td>\n",
       "      <td>0.426791</td>\n",
       "      <td>...</td>\n",
       "      <td>0.320872</td>\n",
       "      <td>0.586212</td>\n",
       "      <td>0.215261</td>\n",
       "      <td>0.213513</td>\n",
       "      <td>0.160857</td>\n",
       "      <td>0.572903</td>\n",
       "      <td>0.286554</td>\n",
       "      <td>0.066342</td>\n",
       "      <td>0.312002</td>\n",
       "      <td>0.724253</td>\n",
       "    </tr>\n",
       "  </tbody>\n",
       "</table>\n",
       "<p>1080 rows × 40 columns</p>\n",
       "</div>"
      ],
      "text/plain": [
       "      Bcatenin_N    NUMB_N     JNK_N    EGR1_N   GluR3_N   GluR4_N   P3525_N  \\\n",
       "0       0.747441  0.323059  0.640167  0.102890  0.531163  0.151103  0.169702   \n",
       "1       0.701976  0.322736  0.614355  0.115874  0.576828  0.149555  0.212421   \n",
       "2       0.710718  0.334325  0.625756  0.109050  0.607535  0.150434  0.202733   \n",
       "3       0.536330  0.220414  0.625528  0.164241  0.562594  0.156083  0.184790   \n",
       "4       0.519186  0.212521  0.599623  0.136298  0.656300  0.147044  0.187625   \n",
       "...          ...       ...       ...       ...       ...       ...       ...   \n",
       "1075    0.272354  0.460448  0.557374  0.388482  0.438759  0.133273  0.503280   \n",
       "1076    0.294023  0.384408  0.584211  0.371843  0.426765  0.106808  0.578604   \n",
       "1077    0.141150  0.396510  0.499992  0.484631  0.408434  0.117020  0.637656   \n",
       "1078    0.171639  0.400692  0.562633  0.571336  0.423819  0.111943  0.612962   \n",
       "1079    0.238791  0.356582  0.706238  0.577914  0.423343  0.105124  0.630897   \n",
       "\n",
       "        RRP1_N   DSCR1_N    GFAP_N  ...   P70S6_N     Tau_N   pNUMB_N  \\\n",
       "0     0.327870  0.553922  0.228825  ...  0.373254  0.057168  0.469461   \n",
       "1     0.326426  0.512117  0.251911  ...  0.376914  0.075103  0.410046   \n",
       "2     0.312439  0.510175  0.248192  ...  0.383316  0.071718  0.400225   \n",
       "3     0.338264  0.514305  0.245676  ...  0.311501  0.053257  0.406715   \n",
       "4     0.330219  0.501294  0.234762  ...  0.317400  0.080162  0.372548   \n",
       "...        ...       ...       ...  ...       ...       ...       ...   \n",
       "1075  0.383560  0.463546  0.382584  ...  0.332212  0.621976  0.168184   \n",
       "1076  0.371298  0.477966  0.349009  ...  0.313644  0.603789  0.202578   \n",
       "1077  0.390396  0.404748  0.399717  ...  0.344935  0.591105  0.111440   \n",
       "1078  0.406447  0.427246  0.495272  ...  0.329906  0.627730  0.163603   \n",
       "1079  0.379606  0.497303  0.426791  ...  0.320872  0.586212  0.215261   \n",
       "\n",
       "        CDK5_N     ERK_N   pCREB_N  pPKCAB_N  DYRK1A_N    BCL2_N      S6_N  \n",
       "0     0.178458  0.627907  0.617322  0.698164  0.151122  0.286884  0.324085  \n",
       "1     0.177452  0.578736  0.590173  0.591606  0.155750  0.286884  0.324004  \n",
       "2     0.189744  0.599925  0.607102  0.581558  0.153459  0.286884  0.369553  \n",
       "3     0.181101  0.452058  0.486945  0.627585  0.125169  0.286884  0.231762  \n",
       "4     0.181805  0.433909  0.410194  0.579839  0.122146  0.286884  0.258720  \n",
       "...        ...       ...       ...       ...       ...       ...       ...  \n",
       "1075  0.216749  0.169947  0.488562  0.270345  0.046197  0.312002  0.757277  \n",
       "1076  0.216441  0.183966  0.535204  0.318227  0.053509  0.312002  0.724808  \n",
       "1077  0.207735  0.072165  0.374040  0.199387  0.035163  0.312002  0.779318  \n",
       "1078  0.251261  0.105024  0.409605  0.219442  0.032018  0.312002  0.740074  \n",
       "1079  0.213513  0.160857  0.572903  0.286554  0.066342  0.312002  0.724253  \n",
       "\n",
       "[1080 rows x 40 columns]"
      ]
     },
     "execution_count": 95,
     "metadata": {},
     "output_type": "execute_result"
    }
   ],
   "source": [
    "newDataKNN"
   ]
  },
  {
   "cell_type": "code",
   "execution_count": 96,
   "metadata": {},
   "outputs": [],
   "source": [
    "# Evaluating the models performence\n",
    "scores_KNN_Final = []"
   ]
  },
  {
   "cell_type": "code",
   "execution_count": 97,
   "metadata": {},
   "outputs": [],
   "source": [
    "modelKNNFinal = KNeighborsClassifier(n_neighbors=2, weights = 'distance', p = 2, metric = 'minkowski')"
   ]
  },
  {
   "cell_type": "code",
   "execution_count": 98,
   "metadata": {},
   "outputs": [
    {
     "name": "stdout",
     "output_type": "stream",
     "text": [
      "[[39  0  0  0  0  0  0  0]\n",
      " [ 0 27  0  0  0  0  0  0]\n",
      " [ 0  0 30  0  0  0  0  0]\n",
      " [ 0  0  0 26  0  0  0  0]\n",
      " [ 0  0  0  0 20  0  0  0]\n",
      " [ 0  0  0  0  0 17  0  0]\n",
      " [ 0  0  0  0  0  0 28  0]\n",
      " [ 0  0  0  0  0  0  0 29]]\n",
      "[[28  0  0  0  0  0  0  0]\n",
      " [ 0 36  0  0  0  0  0  0]\n",
      " [ 0  0 36  0  0  0  0  0]\n",
      " [ 0  0  1 31  0  0  0  0]\n",
      " [ 0  0  0  0 21  0  0  0]\n",
      " [ 0  0  0  0  0 20  0  0]\n",
      " [ 0  0  0  0  0  0 23  0]\n",
      " [ 0  0  0  0  0  0  0 20]]\n",
      "[[24  0  0  0  0  0  0  0]\n",
      " [ 0 23  0  0  0  0  0  0]\n",
      " [ 0  0 25  0  0  0  0  0]\n",
      " [ 0  0  0 20  0  0  0  0]\n",
      " [ 0  0  0  0 38  0  0  0]\n",
      " [ 0  0  0  0  0 24  0  0]\n",
      " [ 0  0  0  0  0  0 32  0]\n",
      " [ 0  0  0  0  0  0  0 30]]\n",
      "[[24  0  0  0  0  0  0  0]\n",
      " [ 0 27  0  0  0  1  0  0]\n",
      " [ 0  0 33  0  0  0  0  0]\n",
      " [ 0  0  0 26  0  0  0  0]\n",
      " [ 0  0  0  0 32  0  0  0]\n",
      " [ 0  0  0  0  0 17  0  0]\n",
      " [ 0  0  0  0  0  0 30  0]\n",
      " [ 0  0  0  0  0  0  0 26]]\n",
      "[[35  0  0  0  0  0  0  0]\n",
      " [ 0 21  0  0  0  0  0  0]\n",
      " [ 0  0 25  1  0  0  0  0]\n",
      " [ 0  0  0 31  0  0  0  0]\n",
      " [ 1  0  0  0 23  0  0  0]\n",
      " [ 0  0  0  0  0 27  0  0]\n",
      " [ 0  0  0  0  0  0 22  0]\n",
      " [ 0  0  0  0  0  0  0 30]]\n"
     ]
    }
   ],
   "source": [
    "for train_index, test_index in kf.split(newDataKNN):\n",
    "    X_train, X_test, y_train, y_test = newDataKNN.iloc[train_index], newDataKNN.iloc[test_index], target.iloc[train_index], target.iloc[test_index]\n",
    "    scores_KNN_Final.append(get_score(modelKNNFinal, X_train, X_test, y_train, y_test))"
   ]
  },
  {
   "cell_type": "code",
   "execution_count": 99,
   "metadata": {},
   "outputs": [
    {
     "name": "stdout",
     "output_type": "stream",
     "text": [
      "[1.0, 0.9953703703703703, 1.0, 0.9953703703703703, 0.9907407407407407]\n"
     ]
    },
    {
     "data": {
      "text/plain": [
       "0.9962962962962962"
      ]
     },
     "execution_count": 99,
     "metadata": {},
     "output_type": "execute_result"
    }
   ],
   "source": [
    "print(scores_KNN_Final)\n",
    "np.mean(scores_KNN_Final)"
   ]
  },
  {
   "cell_type": "code",
   "execution_count": 100,
   "metadata": {},
   "outputs": [
    {
     "data": {
      "text/plain": [
       "Index(['Bcatenin_N', 'NUMB_N', 'JNK_N', 'EGR1_N', 'GluR3_N', 'GluR4_N',\n",
       "       'P3525_N', 'RRP1_N', 'DSCR1_N', 'GFAP_N', 'pERK_N', 'ARC_N', 'P38_N',\n",
       "       'BDNF_N', 'pPKCG_N', 'pNR2A_N', 'pGSK3B_N', 'AKT_N', 'CaNA_N',\n",
       "       'PSD95_N', 'pCASP9_N', 'pMTOR_N', 'NR2B_N', 'nNOS_N', 'MTOR_N', 'SHH_N',\n",
       "       'RAPTOR_N', 'CAMKII_N', 'BAD_N', 'NR1_N', 'P70S6_N', 'Tau_N', 'pNUMB_N',\n",
       "       'CDK5_N', 'ERK_N', 'pCREB_N', 'pPKCAB_N', 'DYRK1A_N', 'BCL2_N', 'S6_N'],\n",
       "      dtype='object')"
      ]
     },
     "execution_count": 100,
     "metadata": {},
     "output_type": "execute_result"
    }
   ],
   "source": [
    "newDataKNN.columns"
   ]
  },
  {
   "cell_type": "code",
   "execution_count": 101,
   "metadata": {},
   "outputs": [],
   "source": [
    "# Hill climibing for feature selection for DT\n",
    "new_Ind = []\n",
    "cur_MaxScore = 0.0\n",
    "col_num = 77\n",
    "col_Ind_Random = shuffle(range(0,col_num), random_state=1)"
   ]
  },
  {
   "cell_type": "code",
   "execution_count": 102,
   "metadata": {},
   "outputs": [
    {
     "name": "stdout",
     "output_type": "stream",
     "text": [
      "Score with 1 selectedfeatures: 0.14074074074074075\n",
      "Score with 2 selectedfeatures: 0.2222222222222222\n",
      "Score with 3 selectedfeatures: 0.2814814814814815\n",
      "Score with 4 selectedfeatures: 0.40370370370370373\n",
      "Score with 5 selectedfeatures: 0.4888888888888889\n",
      "Score with 6 selectedfeatures: 0.4925925925925926\n",
      "Score with 7 selectedfeatures: 0.5259259259259259\n",
      "Score with 8 selectedfeatures: 0.5518518518518518\n",
      "Score with 9 selectedfeatures: 0.5777777777777777\n",
      "Score with 10 selectedfeatures: 0.7148148148148148\n",
      "Score with 11 selectedfeatures: 0.7148148148148148\n",
      "Score with 12 selectedfeatures: 0.7666666666666667\n",
      "Score with 13 selectedfeatures: 0.7814814814814814\n",
      "Score with 14 selectedfeatures: 0.8111111111111111\n",
      "Score with 15 selectedfeatures: 0.8148148148148148\n",
      "Score with 16 selectedfeatures: 0.8407407407407408\n",
      "Score with 17 selectedfeatures: 0.8518518518518519\n",
      "Score with 18 selectedfeatures: 0.8518518518518519\n",
      "Score with 19 selectedfeatures: 0.8518518518518519\n",
      "Score with 20 selectedfeatures: 0.8592592592592593\n",
      "Score with 21 selectedfeatures: 0.8592592592592593\n",
      "Score with 22 selectedfeatures: 0.8629629629629629\n"
     ]
    }
   ],
   "source": [
    "for cur_f in range(0, col_num):\n",
    "    new_Ind.append(col_Ind_Random[cur_f])\n",
    "    newData = data.iloc[:, new_Ind]\n",
    "    X_train, X_test, y_train, y_test = train_test_split(newData,target, test_size=0.25, random_state=0)\n",
    "    modelDT = DecisionTreeClassifier(criterion = 'entropy', max_depth = None, max_features = None, max_leaf_nodes = None, \n",
    "                                 min_samples_leaf = 1, min_samples_split = 2)\n",
    "    fit = modelDT.fit(X_train, y_train)\n",
    "    cur_Score = modelDT.score(X_test, y_test)\n",
    "    if cur_Score < cur_MaxScore:\n",
    "        new_Ind.remove(col_Ind_Random[cur_f])\n",
    "    else:\n",
    "        cur_MaxScore = cur_Score\n",
    "        print(\"Score with \" + str(len(new_Ind)) + \" selectedfeatures: \" + str(cur_Score))"
   ]
  },
  {
   "cell_type": "code",
   "execution_count": 103,
   "metadata": {},
   "outputs": [
    {
     "name": "stdout",
     "output_type": "stream",
     "text": [
      "There are 22 features selected:\n"
     ]
    }
   ],
   "source": [
    "print(\"There are \" + str(len(new_Ind)) + \" features selected:\")"
   ]
  },
  {
   "cell_type": "code",
   "execution_count": 104,
   "metadata": {},
   "outputs": [
    {
     "name": "stdout",
     "output_type": "stream",
     "text": [
      "[31, 43, 26, 74, 58, 59, 61, 51, 36, 10, 71, 46, 19, 76, 63, 62, 38, 44, 22, 4, 66, 14]\n"
     ]
    }
   ],
   "source": [
    "print(new_Ind[:22])"
   ]
  },
  {
   "cell_type": "code",
   "execution_count": 105,
   "metadata": {},
   "outputs": [],
   "source": [
    "# Creating the new dataset with limited features for DT\n",
    "newDataDT = data.iloc[:, new_Ind[:22]]"
   ]
  },
  {
   "cell_type": "code",
   "execution_count": 106,
   "metadata": {},
   "outputs": [
    {
     "data": {
      "text/html": [
       "<div>\n",
       "<style scoped>\n",
       "    .dataframe tbody tr th:only-of-type {\n",
       "        vertical-align: middle;\n",
       "    }\n",
       "\n",
       "    .dataframe tbody tr th {\n",
       "        vertical-align: top;\n",
       "    }\n",
       "\n",
       "    .dataframe thead th {\n",
       "        text-align: right;\n",
       "    }\n",
       "</style>\n",
       "<table border=\"1\" class=\"dataframe\">\n",
       "  <thead>\n",
       "    <tr style=\"text-align: right;\">\n",
       "      <th></th>\n",
       "      <th>Bcatenin_N</th>\n",
       "      <th>NUMB_N</th>\n",
       "      <th>JNK_N</th>\n",
       "      <th>EGR1_N</th>\n",
       "      <th>GluR3_N</th>\n",
       "      <th>GluR4_N</th>\n",
       "      <th>P3525_N</th>\n",
       "      <th>RRP1_N</th>\n",
       "      <th>DSCR1_N</th>\n",
       "      <th>pERK_N</th>\n",
       "      <th>...</th>\n",
       "      <th>AKT_N</th>\n",
       "      <th>CaNA_N</th>\n",
       "      <th>PSD95_N</th>\n",
       "      <th>pCASP9_N</th>\n",
       "      <th>NR2B_N</th>\n",
       "      <th>P70S6_N</th>\n",
       "      <th>CREB_N</th>\n",
       "      <th>NR2A_N</th>\n",
       "      <th>pGSK3B_Tyr216_N</th>\n",
       "      <th>pNR1_N</th>\n",
       "    </tr>\n",
       "  </thead>\n",
       "  <tbody>\n",
       "    <tr>\n",
       "      <th>0</th>\n",
       "      <td>0.747441</td>\n",
       "      <td>0.323059</td>\n",
       "      <td>0.640167</td>\n",
       "      <td>0.102890</td>\n",
       "      <td>0.531163</td>\n",
       "      <td>0.151103</td>\n",
       "      <td>0.169702</td>\n",
       "      <td>0.327870</td>\n",
       "      <td>0.553922</td>\n",
       "      <td>0.157643</td>\n",
       "      <td>...</td>\n",
       "      <td>0.711198</td>\n",
       "      <td>0.705738</td>\n",
       "      <td>0.483783</td>\n",
       "      <td>0.432843</td>\n",
       "      <td>0.509996</td>\n",
       "      <td>0.373254</td>\n",
       "      <td>0.317149</td>\n",
       "      <td>0.630482</td>\n",
       "      <td>0.405228</td>\n",
       "      <td>0.574775</td>\n",
       "    </tr>\n",
       "    <tr>\n",
       "      <th>1</th>\n",
       "      <td>0.701976</td>\n",
       "      <td>0.322736</td>\n",
       "      <td>0.614355</td>\n",
       "      <td>0.115874</td>\n",
       "      <td>0.576828</td>\n",
       "      <td>0.149555</td>\n",
       "      <td>0.212421</td>\n",
       "      <td>0.326426</td>\n",
       "      <td>0.512117</td>\n",
       "      <td>0.159721</td>\n",
       "      <td>...</td>\n",
       "      <td>0.689095</td>\n",
       "      <td>0.749771</td>\n",
       "      <td>0.477640</td>\n",
       "      <td>0.472327</td>\n",
       "      <td>0.457694</td>\n",
       "      <td>0.376914</td>\n",
       "      <td>0.291583</td>\n",
       "      <td>0.585247</td>\n",
       "      <td>0.433471</td>\n",
       "      <td>0.502766</td>\n",
       "    </tr>\n",
       "    <tr>\n",
       "      <th>2</th>\n",
       "      <td>0.710718</td>\n",
       "      <td>0.334325</td>\n",
       "      <td>0.625756</td>\n",
       "      <td>0.109050</td>\n",
       "      <td>0.607535</td>\n",
       "      <td>0.150434</td>\n",
       "      <td>0.202733</td>\n",
       "      <td>0.312439</td>\n",
       "      <td>0.510175</td>\n",
       "      <td>0.154554</td>\n",
       "      <td>...</td>\n",
       "      <td>0.670907</td>\n",
       "      <td>0.868229</td>\n",
       "      <td>0.484953</td>\n",
       "      <td>0.467603</td>\n",
       "      <td>0.467725</td>\n",
       "      <td>0.383316</td>\n",
       "      <td>0.292676</td>\n",
       "      <td>0.575910</td>\n",
       "      <td>0.429387</td>\n",
       "      <td>0.554483</td>\n",
       "    </tr>\n",
       "    <tr>\n",
       "      <th>3</th>\n",
       "      <td>0.536330</td>\n",
       "      <td>0.220414</td>\n",
       "      <td>0.625528</td>\n",
       "      <td>0.164241</td>\n",
       "      <td>0.562594</td>\n",
       "      <td>0.156083</td>\n",
       "      <td>0.184790</td>\n",
       "      <td>0.338264</td>\n",
       "      <td>0.514305</td>\n",
       "      <td>0.127028</td>\n",
       "      <td>...</td>\n",
       "      <td>0.593408</td>\n",
       "      <td>0.721879</td>\n",
       "      <td>0.449304</td>\n",
       "      <td>0.364359</td>\n",
       "      <td>0.461189</td>\n",
       "      <td>0.311501</td>\n",
       "      <td>0.319599</td>\n",
       "      <td>0.480646</td>\n",
       "      <td>0.407971</td>\n",
       "      <td>0.413245</td>\n",
       "    </tr>\n",
       "    <tr>\n",
       "      <th>4</th>\n",
       "      <td>0.519186</td>\n",
       "      <td>0.212521</td>\n",
       "      <td>0.599623</td>\n",
       "      <td>0.136298</td>\n",
       "      <td>0.656300</td>\n",
       "      <td>0.147044</td>\n",
       "      <td>0.187625</td>\n",
       "      <td>0.330219</td>\n",
       "      <td>0.501294</td>\n",
       "      <td>0.117572</td>\n",
       "      <td>...</td>\n",
       "      <td>0.557701</td>\n",
       "      <td>0.812053</td>\n",
       "      <td>0.480334</td>\n",
       "      <td>0.393332</td>\n",
       "      <td>0.416698</td>\n",
       "      <td>0.317400</td>\n",
       "      <td>0.297196</td>\n",
       "      <td>0.441977</td>\n",
       "      <td>0.480342</td>\n",
       "      <td>0.401706</td>\n",
       "    </tr>\n",
       "    <tr>\n",
       "      <th>...</th>\n",
       "      <td>...</td>\n",
       "      <td>...</td>\n",
       "      <td>...</td>\n",
       "      <td>...</td>\n",
       "      <td>...</td>\n",
       "      <td>...</td>\n",
       "      <td>...</td>\n",
       "      <td>...</td>\n",
       "      <td>...</td>\n",
       "      <td>...</td>\n",
       "      <td>...</td>\n",
       "      <td>...</td>\n",
       "      <td>...</td>\n",
       "      <td>...</td>\n",
       "      <td>...</td>\n",
       "      <td>...</td>\n",
       "      <td>...</td>\n",
       "      <td>...</td>\n",
       "      <td>...</td>\n",
       "      <td>...</td>\n",
       "      <td>...</td>\n",
       "    </tr>\n",
       "    <tr>\n",
       "      <th>1075</th>\n",
       "      <td>0.272354</td>\n",
       "      <td>0.460448</td>\n",
       "      <td>0.557374</td>\n",
       "      <td>0.388482</td>\n",
       "      <td>0.438759</td>\n",
       "      <td>0.133273</td>\n",
       "      <td>0.503280</td>\n",
       "      <td>0.383560</td>\n",
       "      <td>0.463546</td>\n",
       "      <td>0.034085</td>\n",
       "      <td>...</td>\n",
       "      <td>0.513342</td>\n",
       "      <td>0.504334</td>\n",
       "      <td>0.820653</td>\n",
       "      <td>0.271418</td>\n",
       "      <td>0.321606</td>\n",
       "      <td>0.332212</td>\n",
       "      <td>0.371679</td>\n",
       "      <td>0.127872</td>\n",
       "      <td>0.614708</td>\n",
       "      <td>0.270967</td>\n",
       "    </tr>\n",
       "    <tr>\n",
       "      <th>1076</th>\n",
       "      <td>0.294023</td>\n",
       "      <td>0.384408</td>\n",
       "      <td>0.584211</td>\n",
       "      <td>0.371843</td>\n",
       "      <td>0.426765</td>\n",
       "      <td>0.106808</td>\n",
       "      <td>0.578604</td>\n",
       "      <td>0.371298</td>\n",
       "      <td>0.477966</td>\n",
       "      <td>0.035471</td>\n",
       "      <td>...</td>\n",
       "      <td>0.519592</td>\n",
       "      <td>0.504110</td>\n",
       "      <td>0.794514</td>\n",
       "      <td>0.243750</td>\n",
       "      <td>0.502104</td>\n",
       "      <td>0.313644</td>\n",
       "      <td>0.328214</td>\n",
       "      <td>0.157739</td>\n",
       "      <td>0.647788</td>\n",
       "      <td>0.274951</td>\n",
       "    </tr>\n",
       "    <tr>\n",
       "      <th>1077</th>\n",
       "      <td>0.141150</td>\n",
       "      <td>0.396510</td>\n",
       "      <td>0.499992</td>\n",
       "      <td>0.484631</td>\n",
       "      <td>0.408434</td>\n",
       "      <td>0.117020</td>\n",
       "      <td>0.637656</td>\n",
       "      <td>0.390396</td>\n",
       "      <td>0.404748</td>\n",
       "      <td>0.030984</td>\n",
       "      <td>...</td>\n",
       "      <td>0.425631</td>\n",
       "      <td>0.547100</td>\n",
       "      <td>0.800596</td>\n",
       "      <td>0.337187</td>\n",
       "      <td>0.273429</td>\n",
       "      <td>0.344935</td>\n",
       "      <td>0.480738</td>\n",
       "      <td>0.071655</td>\n",
       "      <td>0.636498</td>\n",
       "      <td>0.149629</td>\n",
       "    </tr>\n",
       "    <tr>\n",
       "      <th>1078</th>\n",
       "      <td>0.171639</td>\n",
       "      <td>0.400692</td>\n",
       "      <td>0.562633</td>\n",
       "      <td>0.571336</td>\n",
       "      <td>0.423819</td>\n",
       "      <td>0.111943</td>\n",
       "      <td>0.612962</td>\n",
       "      <td>0.406447</td>\n",
       "      <td>0.427246</td>\n",
       "      <td>0.023846</td>\n",
       "      <td>...</td>\n",
       "      <td>0.447634</td>\n",
       "      <td>0.529739</td>\n",
       "      <td>0.839629</td>\n",
       "      <td>0.372550</td>\n",
       "      <td>0.307186</td>\n",
       "      <td>0.329906</td>\n",
       "      <td>0.284648</td>\n",
       "      <td>0.095856</td>\n",
       "      <td>0.656710</td>\n",
       "      <td>0.181649</td>\n",
       "    </tr>\n",
       "    <tr>\n",
       "      <th>1079</th>\n",
       "      <td>0.238791</td>\n",
       "      <td>0.356582</td>\n",
       "      <td>0.706238</td>\n",
       "      <td>0.577914</td>\n",
       "      <td>0.423343</td>\n",
       "      <td>0.105124</td>\n",
       "      <td>0.630897</td>\n",
       "      <td>0.379606</td>\n",
       "      <td>0.497303</td>\n",
       "      <td>0.037159</td>\n",
       "      <td>...</td>\n",
       "      <td>0.505554</td>\n",
       "      <td>0.508336</td>\n",
       "      <td>0.789744</td>\n",
       "      <td>0.367505</td>\n",
       "      <td>0.575657</td>\n",
       "      <td>0.320872</td>\n",
       "      <td>0.359103</td>\n",
       "      <td>0.127028</td>\n",
       "      <td>0.706290</td>\n",
       "      <td>0.234594</td>\n",
       "    </tr>\n",
       "  </tbody>\n",
       "</table>\n",
       "<p>1080 rows × 22 columns</p>\n",
       "</div>"
      ],
      "text/plain": [
       "      Bcatenin_N    NUMB_N     JNK_N    EGR1_N   GluR3_N   GluR4_N   P3525_N  \\\n",
       "0       0.747441  0.323059  0.640167  0.102890  0.531163  0.151103  0.169702   \n",
       "1       0.701976  0.322736  0.614355  0.115874  0.576828  0.149555  0.212421   \n",
       "2       0.710718  0.334325  0.625756  0.109050  0.607535  0.150434  0.202733   \n",
       "3       0.536330  0.220414  0.625528  0.164241  0.562594  0.156083  0.184790   \n",
       "4       0.519186  0.212521  0.599623  0.136298  0.656300  0.147044  0.187625   \n",
       "...          ...       ...       ...       ...       ...       ...       ...   \n",
       "1075    0.272354  0.460448  0.557374  0.388482  0.438759  0.133273  0.503280   \n",
       "1076    0.294023  0.384408  0.584211  0.371843  0.426765  0.106808  0.578604   \n",
       "1077    0.141150  0.396510  0.499992  0.484631  0.408434  0.117020  0.637656   \n",
       "1078    0.171639  0.400692  0.562633  0.571336  0.423819  0.111943  0.612962   \n",
       "1079    0.238791  0.356582  0.706238  0.577914  0.423343  0.105124  0.630897   \n",
       "\n",
       "        RRP1_N   DSCR1_N    pERK_N  ...     AKT_N    CaNA_N   PSD95_N  \\\n",
       "0     0.327870  0.553922  0.157643  ...  0.711198  0.705738  0.483783   \n",
       "1     0.326426  0.512117  0.159721  ...  0.689095  0.749771  0.477640   \n",
       "2     0.312439  0.510175  0.154554  ...  0.670907  0.868229  0.484953   \n",
       "3     0.338264  0.514305  0.127028  ...  0.593408  0.721879  0.449304   \n",
       "4     0.330219  0.501294  0.117572  ...  0.557701  0.812053  0.480334   \n",
       "...        ...       ...       ...  ...       ...       ...       ...   \n",
       "1075  0.383560  0.463546  0.034085  ...  0.513342  0.504334  0.820653   \n",
       "1076  0.371298  0.477966  0.035471  ...  0.519592  0.504110  0.794514   \n",
       "1077  0.390396  0.404748  0.030984  ...  0.425631  0.547100  0.800596   \n",
       "1078  0.406447  0.427246  0.023846  ...  0.447634  0.529739  0.839629   \n",
       "1079  0.379606  0.497303  0.037159  ...  0.505554  0.508336  0.789744   \n",
       "\n",
       "      pCASP9_N    NR2B_N   P70S6_N    CREB_N    NR2A_N  pGSK3B_Tyr216_N  \\\n",
       "0     0.432843  0.509996  0.373254  0.317149  0.630482         0.405228   \n",
       "1     0.472327  0.457694  0.376914  0.291583  0.585247         0.433471   \n",
       "2     0.467603  0.467725  0.383316  0.292676  0.575910         0.429387   \n",
       "3     0.364359  0.461189  0.311501  0.319599  0.480646         0.407971   \n",
       "4     0.393332  0.416698  0.317400  0.297196  0.441977         0.480342   \n",
       "...        ...       ...       ...       ...       ...              ...   \n",
       "1075  0.271418  0.321606  0.332212  0.371679  0.127872         0.614708   \n",
       "1076  0.243750  0.502104  0.313644  0.328214  0.157739         0.647788   \n",
       "1077  0.337187  0.273429  0.344935  0.480738  0.071655         0.636498   \n",
       "1078  0.372550  0.307186  0.329906  0.284648  0.095856         0.656710   \n",
       "1079  0.367505  0.575657  0.320872  0.359103  0.127028         0.706290   \n",
       "\n",
       "        pNR1_N  \n",
       "0     0.574775  \n",
       "1     0.502766  \n",
       "2     0.554483  \n",
       "3     0.413245  \n",
       "4     0.401706  \n",
       "...        ...  \n",
       "1075  0.270967  \n",
       "1076  0.274951  \n",
       "1077  0.149629  \n",
       "1078  0.181649  \n",
       "1079  0.234594  \n",
       "\n",
       "[1080 rows x 22 columns]"
      ]
     },
     "execution_count": 106,
     "metadata": {},
     "output_type": "execute_result"
    }
   ],
   "source": [
    "newDataDT"
   ]
  },
  {
   "cell_type": "code",
   "execution_count": 107,
   "metadata": {},
   "outputs": [],
   "source": [
    "# Evaluating the models performence\n",
    "scores_DT_Final = []"
   ]
  },
  {
   "cell_type": "code",
   "execution_count": 108,
   "metadata": {},
   "outputs": [],
   "source": [
    "modelDTFinal = DecisionTreeClassifier(criterion = 'entropy', max_depth = None, max_features = None, max_leaf_nodes = None, \n",
    "                                 min_samples_leaf = 1, min_samples_split = 2)"
   ]
  },
  {
   "cell_type": "code",
   "execution_count": 109,
   "metadata": {},
   "outputs": [
    {
     "name": "stdout",
     "output_type": "stream",
     "text": [
      "[[25  0  0  0  3  2  0  1]\n",
      " [ 4 20  0  0  0  0  0  0]\n",
      " [ 0  0 17  0  0  0  6  0]\n",
      " [ 0  1  1 31  0  1  3  2]\n",
      " [ 1  1  0  0 17  3  0  0]\n",
      " [ 1  6  0  0  3 17  0  0]\n",
      " [ 0  0  4  0  0  0 18  1]\n",
      " [ 0  3  0  0  0  0  0 24]]\n",
      "[[22  0  0  0  1  1  0  0]\n",
      " [ 1 13  1  0  2  2  0  1]\n",
      " [ 0  0 27  1  0  0  0  0]\n",
      " [ 0  1  2 26  0  0  0  0]\n",
      " [ 0  3  0  0 24  2  0  0]\n",
      " [ 0  1  0  0  0 20  0  0]\n",
      " [ 0  0  2  3  0  0 30  0]\n",
      " [ 0  2  0  0  0  0  0 28]]\n",
      "[[24  2  0  0  1  0  0  0]\n",
      " [ 5 18  1  0  1  0  0  0]\n",
      " [ 0  0 33  1  0  0  2  2]\n",
      " [ 0  0  1 25  0  0  0  0]\n",
      " [ 0  4  0  0 25  5  0  0]\n",
      " [ 0  2  0  0  1 12  0  1]\n",
      " [ 0  0  2  0  0  0 21  0]\n",
      " [ 2  0  0  0  0  0  0 25]]\n",
      "[[30  0  0  1  4  1  0  1]\n",
      " [ 1 21  0  0  9  1  0  0]\n",
      " [ 0  0 19  1  0  0  1  1]\n",
      " [ 0  0  1 18  0  0  2  0]\n",
      " [ 0  5  0  0 21  1  0  0]\n",
      " [ 0  0  0  0  3 18  0  0]\n",
      " [ 0  1  1  2  0  0 26  0]\n",
      " [ 1  0  0  0  0  0  0 25]]\n",
      "[[25  2  0  0  3  1  0  0]\n",
      " [ 1 23  0  0  6  2  0  2]\n",
      " [ 0  0 33  1  0  0  4  1]\n",
      " [ 0  0  0 19  0  0  1  0]\n",
      " [ 0  4  0  0 19  0  0  0]\n",
      " [ 1  1  0  0  3 15  0  0]\n",
      " [ 0  0  1  6  0  0 17  0]\n",
      " [ 1  0  0  0  0  0  2 22]]\n"
     ]
    }
   ],
   "source": [
    "for train_index, test_index in kf.split(newDataDT):\n",
    "    X_train, X_test, y_train, y_test = newDataDT.iloc[train_index], newDataDT.iloc[test_index], target.iloc[train_index], target.iloc[test_index]\n",
    "    scores_DT_Final.append(get_score(modelDTFinal, X_train, X_test, y_train, y_test))"
   ]
  },
  {
   "cell_type": "code",
   "execution_count": 110,
   "metadata": {},
   "outputs": [
    {
     "name": "stdout",
     "output_type": "stream",
     "text": [
      "[0.7824074074074074, 0.8796296296296297, 0.8472222222222222, 0.8240740740740741, 0.8009259259259259]\n"
     ]
    },
    {
     "data": {
      "text/plain": [
       "0.826851851851852"
      ]
     },
     "execution_count": 110,
     "metadata": {},
     "output_type": "execute_result"
    }
   ],
   "source": [
    "print(scores_DT_Final)\n",
    "np.mean(scores_DT_Final)"
   ]
  },
  {
   "cell_type": "code",
   "execution_count": 111,
   "metadata": {},
   "outputs": [
    {
     "data": {
      "text/plain": [
       "Index(['Bcatenin_N', 'NUMB_N', 'JNK_N', 'EGR1_N', 'GluR3_N', 'GluR4_N',\n",
       "       'P3525_N', 'RRP1_N', 'DSCR1_N', 'pERK_N', 'pCFOS_N', 'pPKCG_N', 'AKT_N',\n",
       "       'CaNA_N', 'PSD95_N', 'pCASP9_N', 'NR2B_N', 'P70S6_N', 'CREB_N',\n",
       "       'NR2A_N', 'pGSK3B_Tyr216_N', 'pNR1_N'],\n",
       "      dtype='object')"
      ]
     },
     "execution_count": 111,
     "metadata": {},
     "output_type": "execute_result"
    }
   ],
   "source": [
    "newDataDT.columns"
   ]
  }
 ],
 "metadata": {
  "kernelspec": {
   "display_name": "Python 3",
   "language": "python",
   "name": "python3"
  },
  "language_info": {
   "codemirror_mode": {
    "name": "ipython",
    "version": 3
   },
   "file_extension": ".py",
   "mimetype": "text/x-python",
   "name": "python",
   "nbconvert_exporter": "python",
   "pygments_lexer": "ipython3",
   "version": "3.7.6"
  }
 },
 "nbformat": 4,
 "nbformat_minor": 4
}
